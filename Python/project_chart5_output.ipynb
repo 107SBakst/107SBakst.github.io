{
 "cells": [
  {
   "cell_type": "code",
   "execution_count": 36,
   "metadata": {},
   "outputs": [
    {
     "name": "stdout",
     "output_type": "stream",
     "text": [
      "{\"success\":false,\"status\":401,\"bundle\":{\"name\":\"AuthorizationError\",\"message\":\"Unauthorized request\"}}\n"
     ]
    }
   ],
   "source": [
    "#This was an attempted use of a houseprice api from Bridgedata.\n",
    "#05f77bcab6e5cabee8304eeb5b320496 Server token\n",
    "#64ead8343ad51b5bf585205f7fa814d2 Browser token.\n",
    "#713f3b1mVrZaQBNNLHSS Client id\n",
    "import requests\n",
    "\n",
    "url = \"https://api.bridgedataoutput.com/api/v2/zgecon/marketreport?access_token=6baca547742c6f96a6ff71b138424f21&limit=10&fields=price\"\n",
    "\n",
    "payload={}\n",
    "headers = {}\n",
    "\n",
    "response = requests.request(\"GET\", url, headers=headers, data=payload)\n",
    "\n",
    "print(response.text)\n"
   ]
  },
  {
   "cell_type": "code",
   "execution_count": 37,
   "metadata": {},
   "outputs": [],
   "source": [
    "import pandas as pd\n",
    "#Data comes from the OECD api.\n",
    "urlmetro = 'https://stats.oecd.org/SDMX-JSON/data/CITIES/FI001+CZ001+IT006+UK008+UK007+AUS01+AUS02+AUS03+AUS04+AT001+AT002+AT003+AT004+BE001+BE002+BE003+BE004+BG001+BG002+BG003+BG004+CAN01+CAN02+CAN03+CAN04+CH001+CH002+CH003+CH004+CL004+CL006+CL010+CL011+COL01+COL02+COL03+COL04+DE001+DE002+DE003+DE004+DE005+DK001+DK003+DK004+ES001+ES002+ES003+ES004+ES005+FR001+FR003+FR004+FR006+FR007+UK001+UK003+UK004+UK006+UK009+UK011+EL001+HR001+HR005+HU001+HU002+IE001+IE002+IT001+IT002+IT003+IT004+IT005+JPN01+JPN02+JPN03+JPN04+KOR01+KOR02+KOR03+KOR04+KOR05+LT001+LV001+MEX01+MEX02+MEX03+MEX04+NL001+NL002+NL003+NL004+NO001+NO002+NZL01+NZL02+NZL03+PL001+PL002+PL003+PL004+PT001+PT002+RO001+SK001+SE001+SE002+SE003+TR001+TR002+TR012+USA01+USA02+USA03+USA04+USA05+USA06+USA07.POP_DEN+T_T+POP_TOT_GI+T_T_SH_NAT+T_Y15_64+GDP_SH_NAT/all?startTime=2000&endTime=2021&contentType=csv&csv'\n",
    "dfmetro = pd.read_csv(urlmetro)\n",
    "dfmetro.columns = dfmetro.columns.astype('str').str.lower()\n",
    "#Pivots on the variable column. This makes it easier to read in Vegalite.\n",
    "dfmetro2 = dfmetro.pivot(index=['metro_id','metropolitan areas','year'],columns='variables',values ='value')\n",
    "dfmetro2.columns = dfmetro2.columns.astype('str').str.lower()\n",
    "dfmetro2.columns = dfmetro2.columns.astype('str').str.replace(' ','_')\n",
    "\n",
    "\n",
    "\n",
    "dfmetro2.to_csv(r'C:\\Users\\vw191\\OneDrive\\Documents\\GitHub\\107SBakst.github.io\\data\\project_chart6_oecd.csv')\n",
    "#Github raw url  https://raw.githubusercontent.com/107SBakst/107SBakst.github.io/main/data/project_chart6_oecd.csv"
   ]
  }
 ],
 "metadata": {
  "interpreter": {
   "hash": "7018bf6470262b8ae1e6867ae1c9679e3678173f555f785c43cc713d53a7d042"
  },
  "kernelspec": {
   "display_name": "Python 3.8.3 64-bit ('base': conda)",
   "language": "python",
   "name": "python3"
  },
  "language_info": {
   "codemirror_mode": {
    "name": "ipython",
    "version": 3
   },
   "file_extension": ".py",
   "mimetype": "text/x-python",
   "name": "python",
   "nbconvert_exporter": "python",
   "pygments_lexer": "ipython3",
   "version": "3.8.3"
  },
  "orig_nbformat": 4
 },
 "nbformat": 4,
 "nbformat_minor": 2
}
