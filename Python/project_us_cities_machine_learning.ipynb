{
 "cells": [
  {
   "cell_type": "code",
   "execution_count": 21,
   "metadata": {},
   "outputs": [],
   "source": [
    "import numpy as np\n",
    "import pandas as pd\n",
    "import requests\n",
    "import io\n",
    "from scipy import optimize\n",
    "import matplotlib.pyplot as plt\n",
    "import requests, pandas as pd\n",
    "from bs4 import BeautifulSoup\n",
    "import urllib.request\n",
    "import et_xmlfile as et\n",
    "import json"
   ]
  },
  {
   "cell_type": "code",
   "execution_count": 25,
   "metadata": {},
   "outputs": [],
   "source": [
    "# to handle  data retrieval\n",
    "import urllib3\n",
    "from urllib3 import request# to handle certificate verification\n",
    "import certifi# to manage json data\n",
    "import json# for pandas dataframes\n",
    "import pandas as pd# uncomment below if installation needed (not necessary in Colab)\n",
    "#!pip install certifi"
   ]
  },
  {
   "cell_type": "code",
   "execution_count": 35,
   "metadata": {},
   "outputs": [],
   "source": [
    "http = urllib3.PoolManager(\n",
    "       cert_reqs='CERT_REQUIRED',\n",
    "       ca_certs=certifi.where())\n",
    "url = 'https://api.cityhealthdashboard.com/api/data/tract-metric/high-blood-pressure?token=5854f0373844647c859c416b14e3390d'\n",
    "r = http.request('GET', url)\n",
    "r.status\n",
    "data = json.loads(r.data.decode('utf-8'))\n",
    "df = pd.json_normalize(data, 'rows')\n",
    "city_name = df['city_name']"
   ]
  },
  {
   "cell_type": "code",
   "execution_count": 47,
   "metadata": {},
   "outputs": [
    {
     "name": "stdout",
     "output_type": "stream",
     "text": [
      "https://api.cityhealthdashboard.com/api/data/city-metric/covid-index?token=5854f0373844647c859c416b14e3390d\n",
      "https://api.cityhealthdashboard.com/api/data/city-metric/neighborhood-racial-ethnic-segregation?token=5854f0373844647c859c416b14e3390d\n",
      "https://api.cityhealthdashboard.com/api/data/city-metric/opioid-overdose-deaths?token=5854f0373844647c859c416b14e3390d\n",
      "https://api.cityhealthdashboard.com/api/data/city-metric/park-access?token=5854f0373844647c859c416b14e3390d\n",
      "https://api.cityhealthdashboard.com/api/data/city-metric/walkability?token=5854f0373844647c859c416b14e3390d\n"
     ]
    }
   ],
   "source": [
    "met = ['covid-index', 'neighborhood-racial-ethnic-segregation', 'opioid-overdose-deaths', 'park-access', 'walkability', 'uninsured', 'income-inequality', 'housing-cost-excessive', 'high-blood-pressure', 'children-in-poverty', 'air-pollution-particulate-matter', 'frequent-mental-distress', 'unemployment-current-city-level', 'violent-crime', 'broadband-connection']\n",
    "url_base = \"https://api.cityhealthdashboard.com/api/data/city-metric/{}?token=5854f0373844647c859c416b14e3390d\"\n",
    "\n",
    "dataframes = []\n",
    "\n",
    "# // Begin a loop, dealing with series one by one:\n",
    "for i in range(len(met)):\n",
    "    c = met[i]\n",
    "    s = c.replace(' ','')\n",
    "    http = urllib3.PoolManager(cert_reqs='CERT_REQUIRED',ca_certs=certifi.where())\n",
    "    URL = url_base.format(c)\n",
    "    print(URL)\n",
    "    # // Request the html from the URL:\n",
    "\n",
    "    r = http.request('GET', URL)\n",
    "    r.status\n",
    "    data = json.loads(r.data.decode('utf-8'))\n",
    "    df = pd.json_normalize(data, 'rows')\n",
    "    #fdf = pd.merge(city_name,df,left_on='city_name',right_on='city_name')\n",
    "    fdf = pd.merge(fdf,df,left_on='city_name',right_on='city_name')\n",
    "fdf\n",
    "    \n",
    "       "
   ]
  },
  {
   "cell_type": "code",
   "execution_count": 46,
   "metadata": {},
   "outputs": [
    {
     "data": {
      "text/plain": [
       "Index(['city_name', 'state_abbr_x', 'state_fips_x', 'place_fips_x',\n",
       "       'stpl_fips_x', 'metric_name_x', 'metric_number_x', 'group_name_x',\n",
       "       'group_number_x', 'num_x', 'denom_x', 'est_x', 'lci_x', 'uci_x',\n",
       "       'county_indicator_x', 'multiplier_indicator_x', 'data_yr_type_x',\n",
       "       'geo_level_x', 'date_export_x', 'state_abbr_y', 'state_fips_y',\n",
       "       'place_fips_y', 'stpl_fips_y', 'metric_name_y', 'metric_number_y',\n",
       "       'group_name_y', 'group_number_y', 'num_y', 'denom_y', 'est_y', 'lci_y',\n",
       "       'uci_y', 'county_indicator_y', 'multiplier_indicator_y',\n",
       "       'data_yr_type_y', 'geo_level_y', 'date_export_y'],\n",
       "      dtype='object')"
      ]
     },
     "execution_count": 46,
     "metadata": {},
     "output_type": "execute_result"
    }
   ],
   "source": [
    "fdf.columns"
   ]
  }
 ],
 "metadata": {
  "interpreter": {
   "hash": "7018bf6470262b8ae1e6867ae1c9679e3678173f555f785c43cc713d53a7d042"
  },
  "kernelspec": {
   "display_name": "Python 3.8.3 64-bit ('base': conda)",
   "language": "python",
   "name": "python3"
  },
  "language_info": {
   "codemirror_mode": {
    "name": "ipython",
    "version": 3
   },
   "file_extension": ".py",
   "mimetype": "text/x-python",
   "name": "python",
   "nbconvert_exporter": "python",
   "pygments_lexer": "ipython3",
   "version": "3.8.3"
  },
  "orig_nbformat": 4
 },
 "nbformat": 4,
 "nbformat_minor": 2
}
