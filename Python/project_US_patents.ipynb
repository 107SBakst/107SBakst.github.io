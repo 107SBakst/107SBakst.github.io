{
 "cells": [
  {
   "cell_type": "code",
   "execution_count": null,
   "metadata": {},
   "outputs": [],
   "source": []
  },
  {
   "cell_type": "code",
   "execution_count": 1,
   "metadata": {},
   "outputs": [],
   "source": [
    "import os\n",
    "import zipfile as zip\n",
    "import pandas as pd\n",
    "import csv\n",
    "import numpy as np\n",
    "import requests\n",
    "import io\n",
    "from scipy import optimize\n",
    "import matplotlib.pyplot as plt\n",
    "import requests, pandas as pd\n",
    "from bs4 import BeautifulSoup\n",
    "import urllib.request"
   ]
  },
  {
   "cell_type": "code",
   "execution_count": null,
   "metadata": {},
   "outputs": [],
   "source": [
    "\n",
    "pd.set_option('display.max_columns', None)\n",
    "# Set up file path:\n",
    "# Please include the folder path of the file you are reading. Ex: os.chdir(\"C:/Users/johnsmith/Downloads\")\n",
    "os.chdir(\"C:\\Users\\vw191\\OneDrive\\Documents\\GitHub\\107SBakst.github.io\\data\")\n",
    "file_name = \"location.tsv.zip\"\n",
    "f_name = \"location.tsv\"\n",
    "# Selecting the zip file.\n",
    "zf = zip.ZipFile(file_name)\n",
    "# Reading the selected file in the zip.\n",
    "df = pd.read_csv(zf.open(f_name), delimiter=\"\\t\", quoting=csv.QUOTE_NONNUMERIC)\n",
    "# Print first five observations\n",
    "print(df.head())\n",
    "# Print summary of data: number of columns, observations, and each variable data type\n",
    "print(len(df))\n",
    "df.info()\n",
    "# Provide additional information on certain variables.\n",
    "print(df.describe(exclude=[np.number]))"
   ]
  }
 ],
 "metadata": {
  "interpreter": {
   "hash": "7018bf6470262b8ae1e6867ae1c9679e3678173f555f785c43cc713d53a7d042"
  },
  "kernelspec": {
   "display_name": "Python 3.8.3 64-bit ('base': conda)",
   "language": "python",
   "name": "python3"
  },
  "language_info": {
   "codemirror_mode": {
    "name": "ipython",
    "version": 3
   },
   "file_extension": ".py",
   "mimetype": "text/x-python",
   "name": "python",
   "nbconvert_exporter": "python",
   "pygments_lexer": "ipython3",
   "version": "3.8.3"
  },
  "orig_nbformat": 4
 },
 "nbformat": 4,
 "nbformat_minor": 2
}
