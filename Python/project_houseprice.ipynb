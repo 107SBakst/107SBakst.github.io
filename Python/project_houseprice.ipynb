{
 "cells": [
  {
   "cell_type": "code",
   "execution_count": 9,
   "metadata": {},
   "outputs": [
    {
     "name": "stdout",
     "output_type": "stream",
     "text": [
      "{\"success\":false,\"status\":401,\"bundle\":{\"name\":\"AuthorizationError\",\"message\":\"Unauthorized request\"}}\n"
     ]
    }
   ],
   "source": [
    "#05f77bcab6e5cabee8304eeb5b320496 Server token\n",
    "#64ead8343ad51b5bf585205f7fa814d2 Browser token.\n",
    "#713f3b1mVrZaQBNNLHSS Client id\n",
    "import requests\n",
    "\n",
    "url = \"https://api.bridgedataoutput.com/api/v2/zgecon/marketreport?access_token=6baca547742c6f96a6ff71b138424f21&limit=10&fields=price\"\n",
    "\n",
    "payload={}\n",
    "headers = {}\n",
    "\n",
    "response = requests.request(\"GET\", url, headers=headers, data=payload)\n",
    "\n",
    "print(response.text)\n"
   ]
  }
 ],
 "metadata": {
  "interpreter": {
   "hash": "7018bf6470262b8ae1e6867ae1c9679e3678173f555f785c43cc713d53a7d042"
  },
  "kernelspec": {
   "display_name": "Python 3.8.3 64-bit ('base': conda)",
   "language": "python",
   "name": "python3"
  },
  "language_info": {
   "codemirror_mode": {
    "name": "ipython",
    "version": 3
   },
   "file_extension": ".py",
   "mimetype": "text/x-python",
   "name": "python",
   "nbconvert_exporter": "python",
   "pygments_lexer": "ipython3",
   "version": "3.8.3"
  },
  "orig_nbformat": 4
 },
 "nbformat": 4,
 "nbformat_minor": 2
}
