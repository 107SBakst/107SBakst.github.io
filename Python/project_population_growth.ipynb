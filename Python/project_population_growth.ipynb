{
 "cells": [
  {
   "cell_type": "code",
   "execution_count": 1,
   "metadata": {},
   "outputs": [],
   "source": [
    "%matplotlib inline\n",
    "import matplotlib.pyplot as plt\n",
    "import seaborn as sns; sns.set()\n",
    "import numpy as np\n",
    "import requests, pandas as pd\n",
    "from bs4 import BeautifulSoup\n",
    "import seaborn as sns; sns.set()\n",
    "import urllib.request"
   ]
  },
  {
   "cell_type": "code",
   "execution_count": 10,
   "metadata": {},
   "outputs": [
    {
     "ename": "PermissionError",
     "evalue": "[Errno 13] Permission denied: 'C:\\\\Users\\\\vw191\\\\OneDrive - University of Bristol\\\\Course\\\\3rd year\\\\Data Science\\\\Project\\\\Datastore\\\\WUP2018-F14-Growth_Rate_Cities.xlsx'",
     "output_type": "error",
     "traceback": [
      "\u001b[1;31m---------------------------------------------------------------------------\u001b[0m",
      "\u001b[1;31mPermissionError\u001b[0m                           Traceback (most recent call last)",
      "\u001b[1;32m<ipython-input-10-3b99ebabcbb4>\u001b[0m in \u001b[0;36m<module>\u001b[1;34m\u001b[0m\n\u001b[0;32m      1\u001b[0m \u001b[1;31m#Printed encoding of csv file to read the csv.\u001b[0m\u001b[1;33m\u001b[0m\u001b[1;33m\u001b[0m\u001b[1;33m\u001b[0m\u001b[0m\n\u001b[1;32m----> 2\u001b[1;33m \u001b[1;32mwith\u001b[0m \u001b[0mopen\u001b[0m\u001b[1;33m(\u001b[0m\u001b[1;34mr'C:\\Users\\vw191\\OneDrive - University of Bristol\\Course\\3rd year\\Data Science\\Project\\Datastore\\WUP2018-F14-Growth_Rate_Cities.xlsx'\u001b[0m\u001b[1;33m)\u001b[0m \u001b[1;32mas\u001b[0m \u001b[0mf\u001b[0m\u001b[1;33m:\u001b[0m\u001b[1;33m\u001b[0m\u001b[1;33m\u001b[0m\u001b[0m\n\u001b[0m\u001b[0;32m      3\u001b[0m         \u001b[0mprint\u001b[0m\u001b[1;33m(\u001b[0m\u001b[0mf\u001b[0m\u001b[1;33m.\u001b[0m\u001b[0mencoding\u001b[0m\u001b[1;33m)\u001b[0m\u001b[1;33m\u001b[0m\u001b[1;33m\u001b[0m\u001b[0m\n",
      "\u001b[1;31mPermissionError\u001b[0m: [Errno 13] Permission denied: 'C:\\\\Users\\\\vw191\\\\OneDrive - University of Bristol\\\\Course\\\\3rd year\\\\Data Science\\\\Project\\\\Datastore\\\\WUP2018-F14-Growth_Rate_Cities.xlsx'"
     ]
    }
   ],
   "source": [
    "#Printed encoding of csv file to read the csv.\n",
    "with open(r'C:\\Users\\vw191\\OneDrive - University of Bristol\\Course\\3rd year\\Data Science\\Project\\Datastore\\WUP2018-F14-Growth_Rate_Cities.xlsx') as f:\n",
    "        print(f.encoding)"
   ]
  },
  {
   "cell_type": "code",
   "execution_count": 9,
   "metadata": {},
   "outputs": [
    {
     "ename": "SyntaxError",
     "evalue": "(unicode error) 'unicodeescape' codec can't decode bytes in position 2-3: truncated \\UXXXXXXXX escape (<ipython-input-9-80b7bc17561c>, line 1)",
     "output_type": "error",
     "traceback": [
      "\u001b[1;36m  File \u001b[1;32m\"<ipython-input-9-80b7bc17561c>\"\u001b[1;36m, line \u001b[1;32m1\u001b[0m\n\u001b[1;33m    wup_18 = pd.read_excel('C:\\Users\\vw191\\OneDrive - University of Bristol\\Course\\3rd year\\Data Science\\Project\\Datastore\\WUP2018-F14-Growth_Rate_Cities.xlsx')\u001b[0m\n\u001b[1;37m                           ^\u001b[0m\n\u001b[1;31mSyntaxError\u001b[0m\u001b[1;31m:\u001b[0m (unicode error) 'unicodeescape' codec can't decode bytes in position 2-3: truncated \\UXXXXXXXX escape\n"
     ]
    }
   ],
   "source": [
    "wup_18 = pd.read_excel('C:\\Users\\vw191\\OneDrive - University of Bristol\\Course\\3rd year\\Data Science\\Project\\Datastore\\WUP2018-F14-Growth_Rate_Cities.xlsx')"
   ]
  }
 ],
 "metadata": {
  "interpreter": {
   "hash": "7018bf6470262b8ae1e6867ae1c9679e3678173f555f785c43cc713d53a7d042"
  },
  "kernelspec": {
   "display_name": "Python 3.8.3 64-bit ('base': conda)",
   "language": "python",
   "name": "python3"
  },
  "language_info": {
   "codemirror_mode": {
    "name": "ipython",
    "version": 3
   },
   "file_extension": ".py",
   "mimetype": "text/x-python",
   "name": "python",
   "nbconvert_exporter": "python",
   "pygments_lexer": "ipython3",
   "version": "3.8.3"
  },
  "orig_nbformat": 4
 },
 "nbformat": 4,
 "nbformat_minor": 2
}
