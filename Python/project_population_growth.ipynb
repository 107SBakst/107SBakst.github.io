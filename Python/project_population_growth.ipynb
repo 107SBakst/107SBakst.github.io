{
 "cells": [
  {
   "cell_type": "code",
   "execution_count": 15,
   "metadata": {},
   "outputs": [],
   "source": [
    "%matplotlib inline\n",
    "import matplotlib.pyplot as plt\n",
    "import seaborn as sns; sns.set()\n",
    "import numpy as np\n",
    "import pandas as pd\n",
    "import requests, pandas as pd\n",
    "from bs4 import BeautifulSoup\n",
    "import seaborn as sns; sns.set()\n",
    "import urllib.request\n",
    "\n",
    "pd.set_option('display.max_rows', 400)\n",
    "pd.set_option('display.max_columns', 400)"
   ]
  },
  {
   "cell_type": "code",
   "execution_count": 11,
   "metadata": {},
   "outputs": [
    {
     "name": "stdout",
     "output_type": "stream",
     "text": [
      "cp1252\n"
     ]
    }
   ],
   "source": [
    "#Printed encoding of csv file to read the csv.\n",
    "with open(r'C:\\Users\\vw191\\OneDrive - University of Bristol\\Course\\3rd year\\Data Science\\Project\\Datastore\\WUP2018-F14-Growth_Rate_Cities.csv') as f:\n",
    "        print(f.encoding)"
   ]
  },
  {
   "cell_type": "code",
   "execution_count": 18,
   "metadata": {},
   "outputs": [
    {
     "data": {
      "text/plain": [
       "<bound method Series.reset_index of 0     Index                            1\n",
       "      Country Code                     4\n",
       "      Country or area        Afghanistan\n",
       "      City Code                    20001\n",
       "      Urban Agglomeration          Herat\n",
       "                                ...     \n",
       "1859  2010-2015                     0.34\n",
       "      2015-2020                     0.40\n",
       "      2020-2025                     1.30\n",
       "      2025-2030                     2.44\n",
       "      2030-2035                     2.99\n",
       "Length: 45334, dtype: object>"
      ]
     },
     "execution_count": 18,
     "metadata": {},
     "output_type": "execute_result"
    }
   ],
   "source": [
    "wup_18 = pd.read_csv(r'C:\\Users\\vw191\\OneDrive - University of Bristol\\Course\\3rd year\\Data Science\\Project\\Datastore\\WUP2018-F14-Growth_Rate_Cities.csv', encoding=\"utf8\")\n",
    "wup_18.stack().reset_index"
   ]
  },
  {
   "cell_type": "code",
   "execution_count": null,
   "metadata": {},
   "outputs": [],
   "source": []
  }
 ],
 "metadata": {
  "interpreter": {
   "hash": "7018bf6470262b8ae1e6867ae1c9679e3678173f555f785c43cc713d53a7d042"
  },
  "kernelspec": {
   "display_name": "Python 3.8.3 64-bit ('base': conda)",
   "language": "python",
   "name": "python3"
  },
  "language_info": {
   "codemirror_mode": {
    "name": "ipython",
    "version": 3
   },
   "file_extension": ".py",
   "mimetype": "text/x-python",
   "name": "python",
   "nbconvert_exporter": "python",
   "pygments_lexer": "ipython3",
   "version": "3.8.3"
  },
  "orig_nbformat": 4
 },
 "nbformat": 4,
 "nbformat_minor": 2
}
