{
 "cells": [
  {
   "cell_type": "code",
   "execution_count": null,
   "metadata": {},
   "outputs": [],
   "source": [
    "%pip install pandas\n",
    "import pandas as pd"
   ]
  },
  {
   "cell_type": "code",
   "execution_count": null,
   "metadata": {},
   "outputs": [],
   "source": [
    "#https://stats.oecd.org/SDMX-JSON/data/CITIES/AUS+AUS01+AUS02+AUS03+AUS04.POP_DEN_HINTER/all?startTime=2019&endTime=2021&contentType=csv&csv This url works\n",
    "#The following API is for all USA metro areas in OECD cities database. \n",
    "urlmetro = 'https://stats.oecd.org/SDMX-JSON/data/CITIES/USA+USA01+USA02+USA03+USA04+USA05+USA06+USA07+USA08+USA09+USA10+USA11+USA12+USA13+USA14+USA15+USA16+USA17+USA18+USA19+USA20+USA21+USA22+USA23+USA24+USA25+USA26+USA27+USA28+USA29+USA30+USA31+USA32+USA33+USA34+USA35+USA36+USA37+USA38+USA39+USA40+USA41+USA42+USA43+USA44+USA45+USA46+USA47+USA48+USA49+USA50+USA51+USA52+USA53+USA54+USA55+USA56+USA57+USA58+USA59+USA60+USA61+USA62+USA63+USA64+USA65+USA66+USA67+USA68+USA69+USA70+USA71+USA72+USA73+USA74+USA75+USA76+USA77+USA78+USA79+USA80+USA81+USA82+USA83+USA84+USA85+USA86+USA87+USA88+USA89+USA90+USA91+USA92+USA93+USA94+USA95+USA96+USA97+USA98+USA99+USA100+USA101+USA102+USA103+USA104+USA105+USA106+USA107+USA108+USA109+USA110+USA111+USA112+USA113+USA114+USA115+USA116+USA117+USA118+USA119+USA120+USA121+USA122+USA123+USA124+USA125+USA126+USA127+USA128+USA129+USA130+USA131+USA132+USA133+USA134+USA135+USA136+USA137+USA138+USA139+USA140+USA141+USA142+USA143+USA144+USA145+USA146+USA147+USA148+USA149+USA150+USA151+USA152+USA153+USA154+USA155+USA156+USA157+USA158+USA160+USA161+USA162+USA170.POP_DEN+T_T+POP_TOT_GI+T_T_SH_NAT+T_Y15_64+EMP_RA_15_MAX+EMP_RA_15_MAX_GR_2007+GDP_REAL_PPP+GDP_SH_NAT+GDP_PC_REAL_PPP+EMP_IND_TOTAL+GDP_PW_REAL_PPP+XDSL+SPEX_25_CORE+TREECOVER_SHARE_CORE/all?startTime=2000&endTime=2021&contentType=csv&csv'\n",
    "dfmetro = pd.read_csv(urlmetro)"
   ]
  },
  {
   "cell_type": "code",
   "execution_count": null,
   "metadata": {},
   "outputs": [],
   "source": [
    "#Tidy up the column names and specific columns to make it easier to conduct analysis.\n",
    "import matplotlib as plt\n",
    "dfmetro.columns = dfmetro.columns.str.lower()\n",
    "dfmetro.columns = dfmetro.columns.str.replace(' ', '_')\n",
    "dfmetro.variables = dfmetro.variables.str.lower()\n",
    "dfmetro.variables = dfmetro.variables.str.replace(' ', '_')\n",
    "dfmetro.metropolitan_areas = dfmetro.metropolitan_areas.str.replace('(Greater)','')\n",
    "dfmetro.metropolitan_areas = dfmetro.metropolitan_areas.str.replace(r\"\\(.*?\\)\",\"\")\n",
    "dfmetro.metropolitan_areas = dfmetro.metropolitan_areas.str.replace('[\\([{})\\]]','')\n",
    "dfmetro.metropolitan_areas = dfmetro.metropolitan_areas.str.replace('-','')\n",
    "dfmetro.metropolitan_areas = dfmetro.metropolitan_areas.str.replace(' ','')\n",
    "dfmetro.metropolitan_areas = dfmetro.metropolitan_areas.str.replace('[\\([{})\\]]','')\n",
    "dfmetro.metropolitan_areas = dfmetro.metropolitan_areas.str.lower()\n",
    "\n",
    "\n",
    "#print(dfmetro.variables.unique())\n",
    "h = dfmetro[(dfmetro['variables'] == 'working_age_population_group_(15-64)') & (dfmetro.year == 2018)]\n",
    "h.hist(column='value',bins=100) #This shows that population density is not normally distributed with most of the data on the left handside of the distribution.\n",
    "print(h.value.mean()) #The mean population density is 167.1\n",
    "print(h.value.median()) #The median population density is 126.5\n",
    "#WB data for the USA shows that population density (population per km2 of land) in 2020 was 36. Therefore, this dataset of cities is significantly larger than the country as a whole.\n",
    "dfmetro.columns"
   ]
  },
  {
   "cell_type": "code",
   "execution_count": null,
   "metadata": {},
   "outputs": [],
   "source": [
    "import seaborn as sns\n",
    "import matplotlib.pyplot as plt\n",
    "import numpy as np\n",
    "x = dfmetro[(dfmetro['variables'] == 'growth/shrinking_index_of_the_total_population_(2001=100)') & (dfmetro.year == 2019)]\n",
    "x['diff_avg'] = ((x['value'] - x.value.median())/x.value.median())\n",
    "y = dfmetro[(dfmetro['variables'] == 'labour_productivity_(gdp_per_worker_in_usd,_constant_prices,_constant_ppp,_base_year_2015)') & (dfmetro.year == 2019)]\n",
    "y['diff_avg'] = ((y['value'] - y.value.mean())/y.value.median())\n",
    "mdf = pd.merge(x,y,left_on='metro_id',right_on='metro_id')\n",
    "mdf = mdf.sort_values('diff_avg_x',ascending=False)\n",
    "\n",
    "\n",
    "from sklearn.linear_model import LinearRegression\n",
    "model = LinearRegression(fit_intercept=True)\n",
    "\n",
    "model.fit(mdf[['value_x']], mdf[['diff_avg_y']])\n",
    "\n",
    "#xfit = np.linspace(-1, 7, 162)\n",
    "#yfit = model.predict(mdf[['value_x']])\n",
    "\n",
    "#plt.scatter(mdf['value_x'],mdf['diff_avg_y'])\n",
    "#plt.plot(xfit, yfit,color='red')\n",
    "sns.regplot(data=mdf,x='value_x',y='diff_avg_y')\n",
    "mdf.metropolitan_areas_x.sort_values(ascending=True).unique()\n"
   ]
  },
  {
   "cell_type": "code",
   "execution_count": null,
   "metadata": {},
   "outputs": [],
   "source": [
    "dfeduc = pd.read_excel(r'C:\\Users\\vw191\\OneDrive - University of Bristol\\Course\\3rd year\\Data Science\\Project\\Datastore\\US_educationa_attainment_metro.xlsx')\n",
    "dfeduc.columns = dfeduc.columns.str.lower()\n",
    "dfeduc.columns = dfeduc.columns.str.replace(' ','_')\n",
    "#dfeduc[['name','state_abbrv']] = dfeduc['name'].str.split(',',1,expand=True)\n",
    "dfeduc.name = dfeduc.name.str.replace('-','')\n",
    "dfeduc.name = dfeduc.name.str.replace(' ','')\n",
    "dfeduc.name = dfeduc.name.str.lower()\n",
    "dfeduc.name.sort_values(ascending=True).unique()\n",
    "dfeduc"
   ]
  },
  {
   "cell_type": "code",
   "execution_count": null,
   "metadata": {},
   "outputs": [],
   "source": [
    "mmdf = pd.merge(mdf,dfeduc,left_on='metropolitan_areas_x',right_on='name')\n",
    "mmdf"
   ]
  },
  {
   "cell_type": "code",
   "execution_count": 342,
   "metadata": {},
   "outputs": [
    {
     "data": {
      "text/html": [
       "<div>\n",
       "<style scoped>\n",
       "    .dataframe tbody tr th:only-of-type {\n",
       "        vertical-align: middle;\n",
       "    }\n",
       "\n",
       "    .dataframe tbody tr th {\n",
       "        vertical-align: top;\n",
       "    }\n",
       "\n",
       "    .dataframe thead th {\n",
       "        text-align: right;\n",
       "    }\n",
       "</style>\n",
       "<table border=\"1\" class=\"dataframe\">\n",
       "  <thead>\n",
       "    <tr style=\"text-align: right;\">\n",
       "      <th></th>\n",
       "      <th>Code</th>\n",
       "      <th>GeoFips</th>\n",
       "      <th>GeoName</th>\n",
       "      <th>TimePeriod</th>\n",
       "      <th>CL_UNIT</th>\n",
       "      <th>UNIT_MULT</th>\n",
       "      <th>DataValue</th>\n",
       "      <th>NoteRef</th>\n",
       "    </tr>\n",
       "  </thead>\n",
       "  <tbody>\n",
       "    <tr>\n",
       "      <th>0</th>\n",
       "      <td>CAINC30-300</td>\n",
       "      <td>10100</td>\n",
       "      <td>Aberdeen, SD (Micropolitan Statistical Area)</td>\n",
       "      <td>2018</td>\n",
       "      <td>Dollars</td>\n",
       "      <td>0</td>\n",
       "      <td>42,252</td>\n",
       "      <td>None</td>\n",
       "    </tr>\n",
       "    <tr>\n",
       "      <th>1</th>\n",
       "      <td>CAINC30-300</td>\n",
       "      <td>10140</td>\n",
       "      <td>Aberdeen, WA (Micropolitan Statistical Area)</td>\n",
       "      <td>2018</td>\n",
       "      <td>Dollars</td>\n",
       "      <td>0</td>\n",
       "      <td>41,710</td>\n",
       "      <td>None</td>\n",
       "    </tr>\n",
       "    <tr>\n",
       "      <th>2</th>\n",
       "      <td>CAINC30-300</td>\n",
       "      <td>10220</td>\n",
       "      <td>Ada, OK (Micropolitan Statistical Area)</td>\n",
       "      <td>2018</td>\n",
       "      <td>Dollars</td>\n",
       "      <td>0</td>\n",
       "      <td>44,309</td>\n",
       "      <td>None</td>\n",
       "    </tr>\n",
       "    <tr>\n",
       "      <th>3</th>\n",
       "      <td>CAINC30-300</td>\n",
       "      <td>10300</td>\n",
       "      <td>Adrian, MI (Micropolitan Statistical Area)</td>\n",
       "      <td>2018</td>\n",
       "      <td>Dollars</td>\n",
       "      <td>0</td>\n",
       "      <td>44,210</td>\n",
       "      <td>None</td>\n",
       "    </tr>\n",
       "    <tr>\n",
       "      <th>4</th>\n",
       "      <td>CAINC30-300</td>\n",
       "      <td>10460</td>\n",
       "      <td>Alamogordo, NM (Micropolitan Statistical Area)</td>\n",
       "      <td>2018</td>\n",
       "      <td>Dollars</td>\n",
       "      <td>0</td>\n",
       "      <td>43,876</td>\n",
       "      <td>None</td>\n",
       "    </tr>\n",
       "    <tr>\n",
       "      <th>...</th>\n",
       "      <td>...</td>\n",
       "      <td>...</td>\n",
       "      <td>...</td>\n",
       "      <td>...</td>\n",
       "      <td>...</td>\n",
       "      <td>...</td>\n",
       "      <td>...</td>\n",
       "      <td>...</td>\n",
       "    </tr>\n",
       "    <tr>\n",
       "      <th>538</th>\n",
       "      <td>CAINC30-300</td>\n",
       "      <td>49300</td>\n",
       "      <td>Wooster, OH (Micropolitan Statistical Area)</td>\n",
       "      <td>2018</td>\n",
       "      <td>Dollars</td>\n",
       "      <td>0</td>\n",
       "      <td>46,472</td>\n",
       "      <td>None</td>\n",
       "    </tr>\n",
       "    <tr>\n",
       "      <th>539</th>\n",
       "      <td>CAINC30-300</td>\n",
       "      <td>49380</td>\n",
       "      <td>Worthington, MN (Micropolitan Statistical Area)</td>\n",
       "      <td>2018</td>\n",
       "      <td>Dollars</td>\n",
       "      <td>0</td>\n",
       "      <td>43,381</td>\n",
       "      <td>None</td>\n",
       "    </tr>\n",
       "    <tr>\n",
       "      <th>540</th>\n",
       "      <td>CAINC30-300</td>\n",
       "      <td>49460</td>\n",
       "      <td>Yankton, SD (Micropolitan Statistical Area)</td>\n",
       "      <td>2018</td>\n",
       "      <td>Dollars</td>\n",
       "      <td>0</td>\n",
       "      <td>43,023</td>\n",
       "      <td>None</td>\n",
       "    </tr>\n",
       "    <tr>\n",
       "      <th>541</th>\n",
       "      <td>CAINC30-300</td>\n",
       "      <td>49780</td>\n",
       "      <td>Zanesville, OH (Micropolitan Statistical Area)</td>\n",
       "      <td>2018</td>\n",
       "      <td>Dollars</td>\n",
       "      <td>0</td>\n",
       "      <td>41,945</td>\n",
       "      <td>None</td>\n",
       "    </tr>\n",
       "    <tr>\n",
       "      <th>542</th>\n",
       "      <td>CAINC30-300</td>\n",
       "      <td>49820</td>\n",
       "      <td>Zapata, TX (Micropolitan Statistical Area)</td>\n",
       "      <td>2018</td>\n",
       "      <td>Dollars</td>\n",
       "      <td>0</td>\n",
       "      <td>47,615</td>\n",
       "      <td>None</td>\n",
       "    </tr>\n",
       "  </tbody>\n",
       "</table>\n",
       "<p>543 rows × 8 columns</p>\n",
       "</div>"
      ],
      "text/plain": [
       "            Code  GeoFips                                          GeoName  \\\n",
       "0    CAINC30-300    10100     Aberdeen, SD (Micropolitan Statistical Area)   \n",
       "1    CAINC30-300    10140     Aberdeen, WA (Micropolitan Statistical Area)   \n",
       "2    CAINC30-300    10220          Ada, OK (Micropolitan Statistical Area)   \n",
       "3    CAINC30-300    10300       Adrian, MI (Micropolitan Statistical Area)   \n",
       "4    CAINC30-300    10460   Alamogordo, NM (Micropolitan Statistical Area)   \n",
       "..           ...      ...                                              ...   \n",
       "538  CAINC30-300    49300      Wooster, OH (Micropolitan Statistical Area)   \n",
       "539  CAINC30-300    49380  Worthington, MN (Micropolitan Statistical Area)   \n",
       "540  CAINC30-300    49460      Yankton, SD (Micropolitan Statistical Area)   \n",
       "541  CAINC30-300    49780   Zanesville, OH (Micropolitan Statistical Area)   \n",
       "542  CAINC30-300    49820       Zapata, TX (Micropolitan Statistical Area)   \n",
       "\n",
       "     TimePeriod  CL_UNIT  UNIT_MULT DataValue NoteRef  \n",
       "0          2018  Dollars          0    42,252    None  \n",
       "1          2018  Dollars          0    41,710    None  \n",
       "2          2018  Dollars          0    44,309    None  \n",
       "3          2018  Dollars          0    44,210    None  \n",
       "4          2018  Dollars          0    43,876    None  \n",
       "..          ...      ...        ...       ...     ...  \n",
       "538        2018  Dollars          0    46,472    None  \n",
       "539        2018  Dollars          0    43,381    None  \n",
       "540        2018  Dollars          0    43,023    None  \n",
       "541        2018  Dollars          0    41,945    None  \n",
       "542        2018  Dollars          0    47,615    None  \n",
       "\n",
       "[543 rows x 8 columns]"
      ]
     },
     "execution_count": 342,
     "metadata": {},
     "output_type": "execute_result"
    }
   ],
   "source": [
    "#The best way to work with an api from Bea is to use the xml format over the json format.\n",
    "#This is because vegalite cannot read large numbers in the json format of the api because there are commas in the numbers.\n",
    "#Therefore I found it better to read the data in an xml format in Jupyter notebook and then conduct the analysis before taking the data into vegalite.\n",
    "\n",
    "#https://apps.bea.gov/api/data/?UserID=F88DCBE6-81B9-4A33-BDD9-F9B983466DEF&method=GetParameterValuesFiltered&datasetname=Regional&TargetParameter=LineCode&TableName=CAGDP1&ResultFormat=xml\n",
    "\n",
    "\n",
    "#CAGDP1-3 GDP in current USD.\n",
    "df = pd.read_xml('https://apps.bea.gov/api/data/?UserID=F88DCBE6-81B9-4A33-BDD9-F9B983466DEF&method=GetData&datasetname=Regional&TableName=CAGDP1&LineCode=3&Year=2018&GeoFips=MSA&ResultFormat=xml',xpath=\"//Data\") #Used api with apikey to get data from Bea. Needs to get Data in the element tree.\n",
    "df\n",
    "#CAINC30-100 Total population.\n",
    "df1 = pd.read_xml('https://apps.bea.gov/api/data/?UserID=F88DCBE6-81B9-4A33-BDD9-F9B983466DEF&method=GetData&datasetname=Regional&TableName=CAINC30&LineCode=100&Year=2018&GeoFips=MSA&ResultFormat=xml',xpath=\"//Data\") #Used api with apikey to get data from Bea. Needs to get Data in the element tree.\n",
    "df1\n",
    "#CAINC30-190 Wages and Salaries.\n",
    "df2 = pd.read_xml('https://apps.bea.gov/api/data/?UserID=F88DCBE6-81B9-4A33-BDD9-F9B983466DEF&method=GetData&datasetname=Regional&TableName=CAINC30&LineCode=190&Year=2018&GeoFips=MSA&ResultFormat=xml',xpath=\"//Data\") #Used api with apikey to get data from Bea. Needs to get Data in the element tree.\n",
    "df2\n",
    "#CAINC30-300 Average Wages and Salaries.\n",
    "df3 = pd.read_xml('https://apps.bea.gov/api/data/?UserID=F88DCBE6-81B9-4A33-BDD9-F9B983466DEF&method=GetData&datasetname=Regional&TableName=CAINC30&LineCode=300&Year=2018&GeoFips=MSA&ResultFormat=xml',xpath=\"//Data\") #Used api with apikey to get data from Bea. Needs to get Data in the element tree.\n",
    "df3\n",
    "#CAINC30-300 Average Wages and Salaries.\n",
    "df4 = pd.read_xml('https://apps.bea.gov/api/data/?UserID=F88DCBE6-81B9-4A33-BDD9-F9B983466DEF&method=GetData&datasetname=Regional&TableName=CAINC30&LineCode=300&Year=2018&GeoFips=MIC&ResultFormat=xml',xpath=\"//Data\", encoding='cp1252') #Used api with apikey to get data from Bea. Needs to get Data in the element tree.\n",
    "df4"
   ]
  },
  {
   "cell_type": "code",
   "execution_count": 341,
   "metadata": {},
   "outputs": [
    {
     "data": {
      "text/plain": [
       "41872.86003683241"
      ]
     },
     "execution_count": 341,
     "metadata": {},
     "output_type": "execute_result"
    }
   ],
   "source": [
    "df4.DataValue = df4.DataValue.str.replace(',','')\n",
    "df4.DataValue = df4.DataValue.astype(float)\n",
    "df4.DataValue.mean()"
   ]
  },
  {
   "cell_type": "code",
   "execution_count": 316,
   "metadata": {},
   "outputs": [
    {
     "name": "stderr",
     "output_type": "stream",
     "text": [
      "C:\\Users\\vw191\\Downloads\\annaconda\\lib\\site-packages\\pandas\\core\\generic.py:5516: SettingWithCopyWarning: \n",
      "A value is trying to be set on a copy of a slice from a DataFrame.\n",
      "Try using .loc[row_indexer,col_indexer] = value instead\n",
      "\n",
      "See the caveats in the documentation: https://pandas.pydata.org/pandas-docs/stable/user_guide/indexing.html#returning-a-view-versus-a-copy\n",
      "  self[name] = value\n",
      "C:\\Users\\vw191\\Downloads\\annaconda\\lib\\site-packages\\pandas\\core\\generic.py:5516: SettingWithCopyWarning: \n",
      "A value is trying to be set on a copy of a slice from a DataFrame.\n",
      "Try using .loc[row_indexer,col_indexer] = value instead\n",
      "\n",
      "See the caveats in the documentation: https://pandas.pydata.org/pandas-docs/stable/user_guide/indexing.html#returning-a-view-versus-a-copy\n",
      "  self[name] = value\n",
      "C:\\Users\\vw191\\Downloads\\annaconda\\lib\\site-packages\\pandas\\core\\generic.py:5516: SettingWithCopyWarning: \n",
      "A value is trying to be set on a copy of a slice from a DataFrame.\n",
      "Try using .loc[row_indexer,col_indexer] = value instead\n",
      "\n",
      "See the caveats in the documentation: https://pandas.pydata.org/pandas-docs/stable/user_guide/indexing.html#returning-a-view-versus-a-copy\n",
      "  self[name] = value\n"
     ]
    },
    {
     "name": "stdout",
     "output_type": "stream",
     "text": [
      "47956650.302083336\n",
      "12539998.0\n",
      "         Code  GeoFips                                            GeoName  \\\n",
      "0    CAGDP1-3      998               United States (Metropolitan Portion)   \n",
      "1    CAGDP1-3    10180        Abilene, TX (Metropolitan Statistical Area)   \n",
      "2    CAGDP1-3    10420          Akron, OH (Metropolitan Statistical Area)   \n",
      "3    CAGDP1-3    10500         Albany, GA (Metropolitan Statistical Area)   \n",
      "4    CAGDP1-3    10540  Albany-Lebanon, OR (Metropolitan Statistical A...   \n",
      "..        ...      ...                                                ...   \n",
      "380  CAGDP1-3    49420         Yakima, WA (Metropolitan Statistical Area)   \n",
      "381  CAGDP1-3    49620   York-Hanover, PA (Metropolitan Statistical Area)   \n",
      "382  CAGDP1-3    49660  Youngstown-Warren-Boardman, OH-PA (Metropolita...   \n",
      "383  CAGDP1-3    49700      Yuba City, CA (Metropolitan Statistical Area)   \n",
      "384  CAGDP1-3    49740           Yuma, AZ (Metropolitan Statistical Area)   \n",
      "\n",
      "     TimePeriod               CL_UNIT  UNIT_MULT       DataValue NoteRef  \n",
      "0          2018  Thousands of dollars          3  18,415,353,716    None  \n",
      "1          2018  Thousands of dollars          3         7276717    None  \n",
      "2          2018  Thousands of dollars          3        37070620    None  \n",
      "3          2018  Thousands of dollars          3         5738808    None  \n",
      "4          2018  Thousands of dollars          3         4974680    None  \n",
      "..          ...                   ...        ...             ...     ...  \n",
      "380        2018  Thousands of dollars          3        10515639    None  \n",
      "381        2018  Thousands of dollars          3        21346125    None  \n",
      "382        2018  Thousands of dollars          3        21220057    None  \n",
      "383        2018  Thousands of dollars          3         6959382    None  \n",
      "384        2018  Thousands of dollars          3         7783914    None  \n",
      "\n",
      "[385 rows x 8 columns]\n",
      "732868.1796875\n",
      "247716.5\n",
      "         Code  GeoFips                                            GeoName  \\\n",
      "0    CAGDP1-3      998               United States (Metropolitan Portion)   \n",
      "1    CAGDP1-3    10180        Abilene, TX (Metropolitan Statistical Area)   \n",
      "2    CAGDP1-3    10420          Akron, OH (Metropolitan Statistical Area)   \n",
      "3    CAGDP1-3    10500         Albany, GA (Metropolitan Statistical Area)   \n",
      "4    CAGDP1-3    10540  Albany-Lebanon, OR (Metropolitan Statistical A...   \n",
      "..        ...      ...                                                ...   \n",
      "380  CAGDP1-3    49420         Yakima, WA (Metropolitan Statistical Area)   \n",
      "381  CAGDP1-3    49620   York-Hanover, PA (Metropolitan Statistical Area)   \n",
      "382  CAGDP1-3    49660  Youngstown-Warren-Boardman, OH-PA (Metropolita...   \n",
      "383  CAGDP1-3    49700      Yuba City, CA (Metropolitan Statistical Area)   \n",
      "384  CAGDP1-3    49740           Yuma, AZ (Metropolitan Statistical Area)   \n",
      "\n",
      "     TimePeriod               CL_UNIT  UNIT_MULT       DataValue NoteRef  \n",
      "0          2018  Thousands of dollars          3  18,415,353,716    None  \n",
      "1          2018  Thousands of dollars          3         7276717    None  \n",
      "2          2018  Thousands of dollars          3        37070620    None  \n",
      "3          2018  Thousands of dollars          3         5738808    None  \n",
      "4          2018  Thousands of dollars          3         4974680    None  \n",
      "..          ...                   ...        ...             ...     ...  \n",
      "380        2018  Thousands of dollars          3        10515639    None  \n",
      "381        2018  Thousands of dollars          3        21346125    None  \n",
      "382        2018  Thousands of dollars          3        21220057    None  \n",
      "383        2018  Thousands of dollars          3         6959382    None  \n",
      "384        2018  Thousands of dollars          3         7783914    None  \n",
      "\n",
      "[385 rows x 8 columns]\n",
      "21243728.388020832\n",
      "5324155.5\n",
      "         Code  GeoFips                                            GeoName  \\\n",
      "0    CAGDP1-3      998               United States (Metropolitan Portion)   \n",
      "1    CAGDP1-3    10180        Abilene, TX (Metropolitan Statistical Area)   \n",
      "2    CAGDP1-3    10420          Akron, OH (Metropolitan Statistical Area)   \n",
      "3    CAGDP1-3    10500         Albany, GA (Metropolitan Statistical Area)   \n",
      "4    CAGDP1-3    10540  Albany-Lebanon, OR (Metropolitan Statistical A...   \n",
      "..        ...      ...                                                ...   \n",
      "380  CAGDP1-3    49420         Yakima, WA (Metropolitan Statistical Area)   \n",
      "381  CAGDP1-3    49620   York-Hanover, PA (Metropolitan Statistical Area)   \n",
      "382  CAGDP1-3    49660  Youngstown-Warren-Boardman, OH-PA (Metropolita...   \n",
      "383  CAGDP1-3    49700      Yuba City, CA (Metropolitan Statistical Area)   \n",
      "384  CAGDP1-3    49740           Yuma, AZ (Metropolitan Statistical Area)   \n",
      "\n",
      "     TimePeriod               CL_UNIT  UNIT_MULT       DataValue NoteRef  \n",
      "0          2018  Thousands of dollars          3  18,415,353,716    None  \n",
      "1          2018  Thousands of dollars          3         7276717    None  \n",
      "2          2018  Thousands of dollars          3        37070620    None  \n",
      "3          2018  Thousands of dollars          3         5738808    None  \n",
      "4          2018  Thousands of dollars          3         4974680    None  \n",
      "..          ...                   ...        ...             ...     ...  \n",
      "380        2018  Thousands of dollars          3        10515639    None  \n",
      "381        2018  Thousands of dollars          3        21346125    None  \n",
      "382        2018  Thousands of dollars          3        21220057    None  \n",
      "383        2018  Thousands of dollars          3         6959382    None  \n",
      "384        2018  Thousands of dollars          3         7783914    None  \n",
      "\n",
      "[385 rows x 8 columns]\n"
     ]
    },
    {
     "name": "stderr",
     "output_type": "stream",
     "text": [
      "C:\\Users\\vw191\\Downloads\\annaconda\\lib\\site-packages\\pandas\\core\\generic.py:5516: SettingWithCopyWarning: \n",
      "A value is trying to be set on a copy of a slice from a DataFrame.\n",
      "Try using .loc[row_indexer,col_indexer] = value instead\n",
      "\n",
      "See the caveats in the documentation: https://pandas.pydata.org/pandas-docs/stable/user_guide/indexing.html#returning-a-view-versus-a-copy\n",
      "  self[name] = value\n"
     ]
    },
    {
     "name": "stdout",
     "output_type": "stream",
     "text": [
      "48700.307291666664\n",
      "47080.5\n",
      "         Code  GeoFips                                            GeoName  \\\n",
      "0    CAGDP1-3      998               United States (Metropolitan Portion)   \n",
      "1    CAGDP1-3    10180        Abilene, TX (Metropolitan Statistical Area)   \n",
      "2    CAGDP1-3    10420          Akron, OH (Metropolitan Statistical Area)   \n",
      "3    CAGDP1-3    10500         Albany, GA (Metropolitan Statistical Area)   \n",
      "4    CAGDP1-3    10540  Albany-Lebanon, OR (Metropolitan Statistical A...   \n",
      "..        ...      ...                                                ...   \n",
      "380  CAGDP1-3    49420         Yakima, WA (Metropolitan Statistical Area)   \n",
      "381  CAGDP1-3    49620   York-Hanover, PA (Metropolitan Statistical Area)   \n",
      "382  CAGDP1-3    49660  Youngstown-Warren-Boardman, OH-PA (Metropolita...   \n",
      "383  CAGDP1-3    49700      Yuba City, CA (Metropolitan Statistical Area)   \n",
      "384  CAGDP1-3    49740           Yuma, AZ (Metropolitan Statistical Area)   \n",
      "\n",
      "     TimePeriod               CL_UNIT  UNIT_MULT       DataValue NoteRef  \n",
      "0          2018  Thousands of dollars          3  18,415,353,716    None  \n",
      "1          2018  Thousands of dollars          3         7276717    None  \n",
      "2          2018  Thousands of dollars          3        37070620    None  \n",
      "3          2018  Thousands of dollars          3         5738808    None  \n",
      "4          2018  Thousands of dollars          3         4974680    None  \n",
      "..          ...                   ...        ...             ...     ...  \n",
      "380        2018  Thousands of dollars          3        10515639    None  \n",
      "381        2018  Thousands of dollars          3        21346125    None  \n",
      "382        2018  Thousands of dollars          3        21220057    None  \n",
      "383        2018  Thousands of dollars          3         6959382    None  \n",
      "384        2018  Thousands of dollars          3         7783914    None  \n",
      "\n",
      "[385 rows x 8 columns]\n"
     ]
    },
    {
     "data": {
      "image/png": "[encoded data removed]",
      "text/plain": [
       "<Figure size 432x288 with 1 Axes>"
      ]
     },
     "metadata": {
      "needs_background": "light"
     },
     "output_type": "display_data"
    },
    {
     "data": {
      "image/png": "[encoded data removed]",
      "text/plain": [
       "<Figure size 432x288 with 1 Axes>"
      ]
     },
     "metadata": {
      "needs_background": "light"
     },
     "output_type": "display_data"
    },
    {
     "data": {
      "image/png": "[encoded data removed]",
      "text/plain": [
       "<Figure size 432x288 with 1 Axes>"
      ]
     },
     "metadata": {
      "needs_background": "light"
     },
     "output_type": "display_data"
    },
    {
     "data": {
      "image/png": "[encoded data removed]",
      "text/plain": [
       "<Figure size 432x288 with 1 Axes>"
      ]
     },
     "metadata": {
      "needs_background": "light"
     },
     "output_type": "display_data"
    }
   ],
   "source": [
    "#Automates finding simple mean and median values for each df as well as data cleaning. The for loop removes the , from the datavalue column and converts it to a float.\n",
    "for j in [df, df1, df2, df3]:\n",
    "    i = j\n",
    "    i = i.loc[1:,:]\n",
    "    i.columns = i.columns.astype('str').str.lower()\n",
    "    i.columns = i.columns.astype('str').str.replace(' ','_')\n",
    "    i.datavalue = i.datavalue.astype('str').str.replace(\",\",'')\n",
    "    i.datavalue = i.datavalue.astype('float')\n",
    "    i.geoname = i.geoname.str.replace(' ','')\n",
    "    i.geoname = i.geoname.str.lower()\n",
    "    h = i\n",
    "    h.hist(column='datavalue',bins=100) \n",
    "    print(h.datavalue.mean())\n",
    "    print(h.datavalue.median()) \n",
    "    print(df)\n"
   ]
  },
  {
   "cell_type": "code",
   "execution_count": 318,
   "metadata": {},
   "outputs": [
    {
     "data": {
      "text/plain": [
       "<matplotlib.axes._subplots.AxesSubplot at 0x1c8de509850>"
      ]
     },
     "execution_count": 318,
     "metadata": {},
     "output_type": "execute_result"
    },
    {
     "data": {
      "image/png": "[encoded data removed]",
      "text/plain": [
       "<Figure size 432x288 with 1 Axes>"
      ]
     },
     "metadata": {
      "needs_background": "light"
     },
     "output_type": "display_data"
    }
   ],
   "source": [
    "df3.DataValue = df3.DataValue.astype(str).str.replace(',','')\n",
    "df3.DataValue = df3.DataValue.astype(float)\n",
    "df3['comp_us_%'] = ((df3['DataValue'] - df3.DataValue[0])/df3.DataValue[0])*100\n",
    "df3\n",
    "df3 = df3.sort_values('DataValue',ascending=False)\n",
    "sns.barplot(data=df3,x='GeoName',y='comp_us_%')"
   ]
  },
  {
   "cell_type": "code",
   "execution_count": 325,
   "metadata": {},
   "outputs": [
    {
     "data": {
      "text/plain": [
       "<matplotlib.axes._subplots.AxesSubplot at 0x1c8e07afd60>"
      ]
     },
     "execution_count": 325,
     "metadata": {},
     "output_type": "execute_result"
    },
    {
     "data": {
      "image/png": "[encoded data removed]",
      "text/plain": [
       "<Figure size 432x288 with 1 Axes>"
      ]
     },
     "metadata": {
      "needs_background": "light"
     },
     "output_type": "display_data"
    }
   ],
   "source": [
    "df1.DataValue = df1.DataValue.astype(str).str.replace(',','')\n",
    "df1.DataValue = df1.DataValue.astype(float)\n",
    "df1['comp_avg_%'] = ((df1['DataValue'] - df1.DataValue.median())/df1.DataValue.median())*100\n",
    "df1\n",
    "df1 = df1.sort_values('comp_avg_%',ascending=False)\n",
    "sns.barplot(data=df1,x='GeoName',y='comp_avg_%')"
   ]
  },
  {
   "cell_type": "code",
   "execution_count": 328,
   "metadata": {},
   "outputs": [
    {
     "data": {
      "text/plain": [
       "(0.0, 1000.0)"
      ]
     },
     "execution_count": 328,
     "metadata": {},
     "output_type": "execute_result"
    },
    {
     "data": {
      "image/png": "[encoded data removed]",
      "text/plain": [
       "<Figure size 432x288 with 1 Axes>"
      ]
     },
     "metadata": {
      "needs_background": "light"
     },
     "output_type": "display_data"
    }
   ],
   "source": [
    "mdf = pd.merge(df1,df3,left_on='GeoName',right_on='GeoName')\n",
    "mdf\n",
    "sns.scatterplot(data = mdf,x='comp_avg_%',y='comp_us_%')\n",
    "plt.xlim(0,1000)"
   ]
  }
 ],
 "metadata": {
  "interpreter": {
   "hash": "7018bf6470262b8ae1e6867ae1c9679e3678173f555f785c43cc713d53a7d042"
  },
  "kernelspec": {
   "display_name": "Python 3.8.3 64-bit ('base': conda)",
   "language": "python",
   "name": "python3"
  },
  "language_info": {
   "codemirror_mode": {
    "name": "ipython",
    "version": 3
   },
   "file_extension": ".py",
   "mimetype": "text/x-python",
   "name": "python",
   "nbconvert_exporter": "python",
   "pygments_lexer": "ipython3",
   "version": "3.8.3"
  },
  "orig_nbformat": 4
 },
 "nbformat": 4,
 "nbformat_minor": 2
}
