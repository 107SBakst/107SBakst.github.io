{
 "cells": [
  {
   "cell_type": "code",
   "execution_count": 188,
   "metadata": {},
   "outputs": [],
   "source": [
    "import os\n",
    "\n",
    "import zipfile as zip\n",
    "import pandas as pd\n",
    "import csv\n",
    "import numpy as np\n",
    "import requests as rq\n",
    "import io\n",
    "from scipy import optimize\n",
    "import matplotlib.pyplot as plt\n",
    "import requests, pandas as pd\n",
    "from bs4 import BeautifulSoup\n",
    "import urllib.request\n",
    "import pip\n",
    "import warnings\n",
    "from cif import cif\n",
    "import xml.etree.ElementTree as ET\n",
    "import pandas_read_xml as pdx\n",
    "import pandasdmx as sdmx\n",
    "import re\n",
    "import matplotlib\n",
    "import matplotlib.backends.backend_tkagg\n",
    "matplotlib.use('tkagg')\n"
   ]
  },
  {
   "cell_type": "code",
   "execution_count": 181,
   "metadata": {},
   "outputs": [],
   "source": [
    "#https://stats.oecd.org/SDMX-JSON/data/CITIES/AUS+AUS01+AUS02+AUS03+AUS04.POP_DEN_HINTER/all?startTime=2019&endTime=2021&contentType=csv&csv This url works\n",
    "#The following API is for all USA metro areas in OECD cities database. \n",
    "urlmetro = 'https://stats.oecd.org/SDMX-JSON/data/CITIES/USA+USA01+USA02+USA03+USA04+USA05+USA06+USA07+USA08+USA09+USA10+USA11+USA12+USA13+USA14+USA15+USA16+USA17+USA18+USA19+USA20+USA21+USA22+USA23+USA24+USA25+USA26+USA27+USA28+USA29+USA30+USA31+USA32+USA33+USA34+USA35+USA36+USA37+USA38+USA39+USA40+USA41+USA42+USA43+USA44+USA45+USA46+USA47+USA48+USA49+USA50+USA51+USA52+USA53+USA54+USA55+USA56+USA57+USA58+USA59+USA60+USA61+USA62+USA63+USA64+USA65+USA66+USA67+USA68+USA69+USA70+USA71+USA72+USA73+USA74+USA75+USA76+USA77+USA78+USA79+USA80+USA81+USA82+USA83+USA84+USA85+USA86+USA87+USA88+USA89+USA90+USA91+USA92+USA93+USA94+USA95+USA96+USA97+USA98+USA99+USA100+USA101+USA102+USA103+USA104+USA105+USA106+USA107+USA108+USA109+USA110+USA111+USA112+USA113+USA114+USA115+USA116+USA117+USA118+USA119+USA120+USA121+USA122+USA123+USA124+USA125+USA126+USA127+USA128+USA129+USA130+USA131+USA132+USA133+USA134+USA135+USA136+USA137+USA138+USA139+USA140+USA141+USA142+USA143+USA144+USA145+USA146+USA147+USA148+USA149+USA150+USA151+USA152+USA153+USA154+USA155+USA156+USA157+USA158+USA160+USA161+USA162+USA170.POP_DEN+T_T+POP_TOT_GI+T_T_SH_NAT+T_Y15_64+EMP_RA_15_MAX+EMP_RA_15_MAX_GR_2007+GDP_REAL_PPP+GDP_SH_NAT+GDP_PC_REAL_PPP+EMP_IND_TOTAL+GDP_PW_REAL_PPP+XDSL+SPEX_25_CORE+TREECOVER_SHARE_CORE/all?startTime=2000&endTime=2021&contentType=csv&csv'\n",
    "dfmetro = pd.read_csv(urlmetro)\n",
    "\n",
    "\n"
   ]
  },
  {
   "cell_type": "code",
   "execution_count": 189,
   "metadata": {},
   "outputs": [
    {
     "ename": "ImportError",
     "evalue": "matplotlib is required for plotting when the default backend \"matplotlib\" is selected.",
     "output_type": "error",
     "traceback": [
      "\u001b[1;31m---------------------------------------------------------------------------\u001b[0m",
      "\u001b[1;31mImportError\u001b[0m                               Traceback (most recent call last)",
      "\u001b[1;32m<ipython-input-189-cc77cd70b7f1>\u001b[0m in \u001b[0;36m<module>\u001b[1;34m\u001b[0m\n\u001b[0;32m      8\u001b[0m \u001b[0mdfmetro\u001b[0m\u001b[1;33m.\u001b[0m\u001b[0myear\u001b[0m\u001b[1;33m.\u001b[0m\u001b[0munique\u001b[0m\u001b[1;33m(\u001b[0m\u001b[1;33m)\u001b[0m\u001b[1;33m\u001b[0m\u001b[1;33m\u001b[0m\u001b[0m\n\u001b[0;32m      9\u001b[0m \u001b[0mh\u001b[0m \u001b[1;33m=\u001b[0m \u001b[0mdfmetro\u001b[0m\u001b[1;33m[\u001b[0m\u001b[1;33m(\u001b[0m\u001b[0mdfmetro\u001b[0m\u001b[1;33m[\u001b[0m\u001b[1;34m'variables'\u001b[0m\u001b[1;33m]\u001b[0m \u001b[1;33m==\u001b[0m \u001b[1;34m'population_density_(inhabitants_per_km2)'\u001b[0m\u001b[1;33m)\u001b[0m \u001b[1;33m&\u001b[0m \u001b[1;33m(\u001b[0m\u001b[0mdfmetro\u001b[0m\u001b[1;33m.\u001b[0m\u001b[0myear\u001b[0m \u001b[1;33m==\u001b[0m \u001b[1;36m2018\u001b[0m\u001b[1;33m)\u001b[0m\u001b[1;33m]\u001b[0m\u001b[1;33m\u001b[0m\u001b[1;33m\u001b[0m\u001b[0m\n\u001b[1;32m---> 10\u001b[1;33m \u001b[0mhist\u001b[0m \u001b[1;33m=\u001b[0m \u001b[0mh\u001b[0m\u001b[1;33m.\u001b[0m\u001b[0mhist\u001b[0m\u001b[1;33m(\u001b[0m\u001b[0mcolumn\u001b[0m\u001b[1;33m=\u001b[0m\u001b[1;34m'value'\u001b[0m\u001b[1;33m,\u001b[0m \u001b[0mbins\u001b[0m\u001b[1;33m=\u001b[0m\u001b[1;36m30\u001b[0m\u001b[1;33m)\u001b[0m\u001b[1;33m\u001b[0m\u001b[1;33m\u001b[0m\u001b[0m\n\u001b[0m",
      "\u001b[1;32m~\\Downloads\\annaconda\\lib\\site-packages\\pandas\\plotting\\_core.py\u001b[0m in \u001b[0;36mhist_frame\u001b[1;34m(data, column, by, grid, xlabelsize, xrot, ylabelsize, yrot, ax, sharex, sharey, figsize, layout, bins, backend, **kwargs)\u001b[0m\n\u001b[0;32m    190\u001b[0m         \u001b[0;31m`\u001b[0m\u001b[0;31m`\u001b[0m\u001b[0mpd\u001b[0m\u001b[1;33m.\u001b[0m\u001b[0moptions\u001b[0m\u001b[1;33m.\u001b[0m\u001b[0mplotting\u001b[0m\u001b[1;33m.\u001b[0m\u001b[0mbackend\u001b[0m\u001b[0;31m`\u001b[0m\u001b[0;31m`\u001b[0m\u001b[1;33m.\u001b[0m\u001b[1;33m\u001b[0m\u001b[1;33m\u001b[0m\u001b[0m\n\u001b[0;32m    191\u001b[0m \u001b[1;33m\u001b[0m\u001b[0m\n\u001b[1;32m--> 192\u001b[1;33m         \u001b[1;33m.\u001b[0m\u001b[1;33m.\u001b[0m \u001b[0mversionadded\u001b[0m\u001b[1;33m:\u001b[0m\u001b[1;33m:\u001b[0m \u001b[1;36m1.0\u001b[0m\u001b[1;36m.0\u001b[0m\u001b[1;33m\u001b[0m\u001b[1;33m\u001b[0m\u001b[0m\n\u001b[0m\u001b[0;32m    193\u001b[0m \u001b[1;33m\u001b[0m\u001b[0m\n\u001b[0;32m    194\u001b[0m     \u001b[0mlegend\u001b[0m \u001b[1;33m:\u001b[0m \u001b[0mbool\u001b[0m\u001b[1;33m,\u001b[0m \u001b[0mdefault\u001b[0m \u001b[1;32mFalse\u001b[0m\u001b[1;33m\u001b[0m\u001b[1;33m\u001b[0m\u001b[0m\n",
      "\u001b[1;32m~\\Downloads\\annaconda\\lib\\site-packages\\pandas\\plotting\\_core.py\u001b[0m in \u001b[0;36m_get_plot_backend\u001b[1;34m(backend)\u001b[0m\n\u001b[0;32m   1664\u001b[0m         \u001b[0mgridsize\u001b[0m \u001b[1;33m:\u001b[0m \u001b[0mint\u001b[0m \u001b[1;32mor\u001b[0m \u001b[0mtuple\u001b[0m \u001b[0mof\u001b[0m \u001b[1;33m(\u001b[0m\u001b[0mint\u001b[0m\u001b[1;33m,\u001b[0m \u001b[0mint\u001b[0m\u001b[1;33m)\u001b[0m\u001b[1;33m,\u001b[0m \u001b[0mdefault\u001b[0m \u001b[1;36m100\u001b[0m\u001b[1;33m\u001b[0m\u001b[1;33m\u001b[0m\u001b[0m\n\u001b[0;32m   1665\u001b[0m             \u001b[0mThe\u001b[0m \u001b[0mnumber\u001b[0m \u001b[0mof\u001b[0m \u001b[0mhexagons\u001b[0m \u001b[1;32min\u001b[0m \u001b[0mthe\u001b[0m \u001b[0mx\u001b[0m\u001b[1;33m-\u001b[0m\u001b[0mdirection\u001b[0m\u001b[1;33m.\u001b[0m\u001b[1;33m\u001b[0m\u001b[1;33m\u001b[0m\u001b[0m\n\u001b[1;32m-> 1666\u001b[1;33m             \u001b[0mThe\u001b[0m \u001b[0mcorresponding\u001b[0m \u001b[0mnumber\u001b[0m \u001b[0mof\u001b[0m \u001b[0mhexagons\u001b[0m \u001b[1;32min\u001b[0m \u001b[0mthe\u001b[0m \u001b[0my\u001b[0m\u001b[1;33m-\u001b[0m\u001b[0mdirection\u001b[0m \u001b[1;32mis\u001b[0m\u001b[1;33m\u001b[0m\u001b[1;33m\u001b[0m\u001b[0m\n\u001b[0m\u001b[0;32m   1667\u001b[0m             \u001b[0mchosen\u001b[0m \u001b[1;32min\u001b[0m \u001b[0ma\u001b[0m \u001b[0mway\u001b[0m \u001b[0mthat\u001b[0m \u001b[0mthe\u001b[0m \u001b[0mhexagons\u001b[0m \u001b[0mare\u001b[0m \u001b[0mapproximately\u001b[0m \u001b[0mregular\u001b[0m\u001b[1;33m.\u001b[0m\u001b[1;33m\u001b[0m\u001b[1;33m\u001b[0m\u001b[0m\n\u001b[0;32m   1668\u001b[0m             \u001b[0mAlternatively\u001b[0m\u001b[1;33m,\u001b[0m \u001b[0mgridsize\u001b[0m \u001b[0mcan\u001b[0m \u001b[0mbe\u001b[0m \u001b[0ma\u001b[0m \u001b[0mtuple\u001b[0m \u001b[1;32mwith\u001b[0m \u001b[0mtwo\u001b[0m \u001b[0melements\u001b[0m\u001b[1;33m\u001b[0m\u001b[1;33m\u001b[0m\u001b[0m\n",
      "\u001b[1;31mImportError\u001b[0m: matplotlib is required for plotting when the default backend \"matplotlib\" is selected."
     ]
    }
   ],
   "source": [
    "#Tidy up the column names and specific columns to make it easier to conduct analysis.\n",
    "import matplotlib as plt\n",
    "dfmetro.columns = dfmetro.columns.str.lower()\n",
    "dfmetro.columns = dfmetro.columns.str.replace(' ', '_')\n",
    "dfmetro.variables = dfmetro.variables.str.lower()\n",
    "dfmetro.variables = dfmetro.variables.str.replace(' ', '_')\n",
    "\n",
    "dfmetro.year.unique()\n",
    "h = dfmetro[(dfmetro['variables'] == 'population_density_(inhabitants_per_km2)') & (dfmetro.year == 2018)]\n",
    "hist = h.hist(column='value', bins=30)\n"
   ]
  },
  {
   "cell_type": "code",
   "execution_count": null,
   "metadata": {},
   "outputs": [],
   "source": [
    "#Using OECD api to create a df of metropoitan area statistics for a sample of cities.\n",
    "#https://stats.oecd.org/SDMX-JSON/data/CITIES/BE001+BE002+BE003+DE001+DE002+DE003+DE004+DE005+DE007+DK001+FI001+FR001+FR003+FR004+FR006+FR007+FR008+FR032+FR203+FR205+UK001+UK003+UK004+UK006+UK007+UK008+UK009+UK010+UK011+UK012+UK013+UK014+UK016+UK017+UK029+UK528+UK539+UK546+UK559+UK560+UK569+HU001+IT001+IT002+IT003+IT004+IT006+IT007+IT009+IT011+MEX01+NL002+NL003+NL004+SE001+SE003+USA01+USA02+USA03+USA04+USA05+USA06+USA08+USA09+USA10+USA11+USA13+USA14+USA15+USA16+USA30.T_T+T_T_CORE+T_T_HINTER+POP_TOT_GI+T_T_SH_NAT+POP_DEN+POP_DEN_CORE+POP_DEN_HINTER/all?startTime=2010&endTime=2021&dimensionAtObservation=allDimensions\n",
    "url1 = 'https://stats.oecd.org/SDMX-JSON/data/CITIES/BE001+BE002+BE003+DE001+DE002+DE003+DE004+DE005+DE007+DK001+FI001+FR001+FR003+FR004+FR006+FR007+FR008+FR032+FR203+FR205+UK001+UK003+UK004+UK006+UK007+UK008+UK009+UK010+UK011+UK012+UK013+UK014+UK016+UK017+UK029+UK528+UK539+UK546+UK559+UK560+UK569+HU001+IT001+IT002+IT003+IT004+IT006+IT007+IT009+IT011+MEX01+NL002+NL003+NL004+SE001+SE003+USA01+USA02+USA03+USA04+USA05+USA06+USA08+USA09+USA10+USA11+USA13+USA14+USA15+USA16+USA30.T_T+T_T_CORE+T_T_HINTER+POP_TOT_GI+T_T_SH_NAT+POP_DEN+POP_DEN_CORE+POP_DEN_HINTER/all?startTime=2010&endTime=2021&dimensionAtObservation=allDimensions'\n",
    "oecd_url = requests.get(url1)\n",
    "df = sdmx.to_pandas(oecd_url)\n",
    "#data_all, subjects_all, measures_all = cif.createDataFrameFromOECD(dsname = 'CITIES')\n"
   ]
  },
  {
   "cell_type": "code",
   "execution_count": null,
   "metadata": {},
   "outputs": [],
   "source": [
    "url1 = 'https://stats.oecd.org/SDMX-JSON/data/CITIES/BE001+BE002+BE003+DE001+DE002+DE003+DE004+DE005+DE007+DK001+FI001+FR001+FR003+FR004+FR006+FR007+FR008+FR032+FR203+FR205+UK001+UK003+UK004+UK006+UK007+UK008+UK009+UK010+UK011+UK012+UK013+UK014+UK016+UK017+UK029+UK528+UK539+UK546+UK559+UK560+UK569+HU001+IT001+IT002+IT003+IT004+IT006+IT007+IT009+IT011+MEX01+NL002+NL003+NL004+SE001+SE003+USA01+USA02+USA03+USA04+USA05+USA06+USA08+USA09+USA10+USA11+USA13+USA14+USA15+USA16+USA30.T_T+T_T_CORE+T_T_HINTER+POP_TOT_GI+T_T_SH_NAT+POP_DEN+POP_DEN_CORE+POP_DEN_HINTER/all?startTime=2010&endTime=2021&dimensionAtObservation=allDimensions'\n",
    "oecd_url = requests.get(url1)\n",
    "req = sdmx.Request()\n",
    "req.get(url=url1)\n",
    "#msg = sdmx.read_sdmx(req.get(url=url1))\n",
    "#sdmx.to_pandas(msg).to_csv('data.csv')\n",
    "df = pd.read_json(url1)"
   ]
  },
  {
   "cell_type": "code",
   "execution_count": null,
   "metadata": {},
   "outputs": [],
   "source": [
    "print('Downloaded MEI data set size: %d x %d' % (data_all.shape[0], data_all.shape[1]))\n",
    "data_all"
   ]
  },
  {
   "cell_type": "code",
   "execution_count": null,
   "metadata": {},
   "outputs": [],
   "source": [
    "def get_from_oecd(sdmx_query):\n",
    "    return pd.read_json(\n",
    "        f\"https://stats.oecd.org/SDMX-JSON/data/{sdmx_query}?contentType=json\"\n",
    "    )\n",
    "\n",
    "#print(get_from_oecd(\"MEI_FIN/IRLT.USA.M/OECD\").head())\n",
    "df = pd.DataFrame(get_from_oecd(\"CITIES/USA158+USA160+USA161+USA162+USA170.T_T+T_T_CORE+T_T_HINTER+POP_TOT_GI+T_T_SH_NAT+POP_DEN+POP_DEN_CORE+POP_DEN_HINTER/all?startTime=2000&endTime=2021\"))\n",
    "df"
   ]
  },
  {
   "cell_type": "code",
   "execution_count": null,
   "metadata": {},
   "outputs": [],
   "source": [
    "def get_from_oecd(sdmx_query):\n",
    "    return pd.read_csv(\n",
    "        f\"https://stats.oecd.org/SDMX-JSON/data/{sdmx_query}\"\n",
    "    )\n",
    "\n",
    "print(get_from_oecd(\"CITIES/AUS01+AUS02.POP_DEN/all?startTime=2000&endTime=2021\").head())"
   ]
  },
  {
   "cell_type": "code",
   "execution_count": null,
   "metadata": {},
   "outputs": [],
   "source": [
    "xml_data = open('https://stats.oecd.org/restsdmx/sdmx.ashx/GetData/CITIES/CAN01.GDP_REAL_PPP+GDP_SH_NAT+GDP_PC_REAL_PPP+EMP_IND_TOTAL+GDP_PW_REAL_PPP/all?startTime=2001&endTime=2021').read()  # Read file\n",
    "root = ET.XML(xml_data)  # Parse XML\n",
    "\n",
    "data = []\n",
    "cols = []\n",
    "for i, child in enumerate(root):\n",
    "    data.append([subchild.text for subchild in child])\n",
    "    cols.append(child.tag)\n",
    "\n",
    "df = pd.DataFrame(data).T  # Write in DF and transpose it\n",
    "df.columns = cols  # Update column names\n",
    "print(df)"
   ]
  },
  {
   "cell_type": "code",
   "execution_count": null,
   "metadata": {},
   "outputs": [],
   "source": [
    "import pandasdmx as sdmx\n",
    "\n",
    "oecd = sdmx.Request('OECD')\n",
    "\n",
    "oecd_via_proxy = sdmx.Request('OECD', proxies={'http': 'http://1.2.3.4:5678'})\n"
   ]
  },
  {
   "cell_type": "code",
   "execution_count": null,
   "metadata": {},
   "outputs": [],
   "source": [
    "df2 = pd.read_xml('https://stats.oecd.org/restsdmx/sdmx.ashx/GetData/CITIES/CAN01.GDP_REAL_PPP+GDP_SH_NAT+GDP_PC_REAL_PPP+EMP_IND_TOTAL+GDP_PW_REAL_PPP/all?startTime=2001&endTime=2021',['Header','Dataset','Obs'])"
   ]
  },
  {
   "cell_type": "code",
   "execution_count": null,
   "metadata": {},
   "outputs": [],
   "source": [
    "OECD_ROOT_URL = \"http://stats.oecd.org/SDMX-JSON/data\"\n",
    "\n",
    "def make_OECD_request(dsname, dimensions, params = None, root_dir = OECD_ROOT_URL):\n",
    "    # Make URL for the OECD API and return a response\n",
    "    # 4 dimensions: location, subject, measure, frequency\n",
    "    # OECD API: https://data.oecd.org/api/sdmx-json-documentation/#d.en.330346\n",
    "\n",
    "    if not params:\n",
    "        params = {}\n",
    "\n",
    "    dim_args = ['+'.join(d) for d in dimensions]\n",
    "    dim_str = '.'.join(dim_args)\n",
    "\n",
    "    url = root_dir + '/' + dsname + '/' + dim_str + '/all'\n",
    "\n",
    "    print('Requesting URL ' + url)\n",
    "    return rq.get(url = url, params = params)\n",
    "\n",
    "\n",
    "def create_DataFrame_from_OECD(country = 'FRA', subject = [], measure = [], frequency = 'A',  startDate = None, endDate = None):     \n",
    "    # Request data from OECD API and return pandas DataFrame\n",
    "\n",
    "    # country: country code (max 1)\n",
    "    # subject: list of subjects, empty list for all\n",
    "    # measure: list of measures, empty list for all\n",
    "    # frequency: 'M' for monthly and 'Q' for quarterly time series\n",
    "    # startDate: date in YYYY-MM (2000-01) or YYYY-QQ (2000-Q1) format, None for all observations\n",
    "    # endDate: date in YYYY-MM (2000-01) or YYYY-QQ (2000-Q1) format, None for all observations\n",
    "\n",
    "    # Data download\n",
    "\n",
    "    response = make_OECD_request('MEI'\n",
    "                                 , [[country], subject, measure, [frequency]]\n",
    "                                 , {'startTime': startDate, 'endTime': endDate, 'dimensionAtObservation': 'AllDimensions'})\n",
    "\n",
    "    # Data transformation\n",
    "\n",
    "    if (response.status_code == 200):\n",
    "\n",
    "        responseJson = response.json()\n",
    "\n",
    "        obsList = responseJson.get('dataSets')[0].get('observations')\n",
    "\n",
    "        if (len(obsList) > 0):\n",
    "\n",
    "            print('Data downloaded from %s' % response.url)\n",
    "\n",
    "            timeList = [item for item in responseJson.get('structure').get('dimensions').get('observation') if item['id'] == 'TIME_PERIOD'][0]['values']\n",
    "            subjectList = [item for item in responseJson.get('structure').get('dimensions').get('observation') if item['id'] == 'SUBJECT'][0]['values']\n",
    "            measureList = [item for item in responseJson.get('structure').get('dimensions').get('observation') if item['id'] == 'MEASURE'][0]['values']\n",
    "\n",
    "            obs = pd.DataFrame(obsList).transpose()\n",
    "            obs.rename(columns = {0: 'series'}, inplace = True)\n",
    "            obs['id'] = obs.index\n",
    "            obs = obs[['id', 'series']]\n",
    "            obs['dimensions'] = obs.apply(lambda x: re.findall('\\d+', x['id']), axis = 1)\n",
    "            obs['subject'] = obs.apply(lambda x: subjectList[int(x['dimensions'][1])]['id'], axis = 1)\n",
    "            obs['measure'] = obs.apply(lambda x: measureList[int(x['dimensions'][2])]['id'], axis = 1)\n",
    "            obs['time'] = obs.apply(lambda x: timeList[int(x['dimensions'][4])]['id'], axis = 1)\n",
    "            obs['names'] = obs['subject'] + '_' + obs['measure']\n",
    "\n",
    "            data = obs.pivot_table(index = 'time', columns = ['names'], values = 'series')\n",
    "\n",
    "            return(data)\n",
    "\n",
    "        else:\n",
    "\n",
    "            print('Error: No available records, please change parameters')\n",
    "\n",
    "    else:\n",
    "\n",
    "        print('Error: %s' % response.status_code)"
   ]
  },
  {
   "cell_type": "code",
   "execution_count": null,
   "metadata": {},
   "outputs": [],
   "source": [
    "#data = create_DataFrame_from_OECD(country = 'FRA', subject = ['LOCOPCNO'])\n",
    "data = create_DataFrame_from_OECD(country = 'USA', frequency = 'Q', startDate = '2009-Q1', endDate = '2010-Q1')\n",
    "data = create_DataFrame_from_OECD(country = 'USA', frequency = 'M', startDate = '2009-01', endDate = '2010-12')\n",
    "data = create_DataFrame_from_OECD(country = 'USA', frequency = 'M', subject = ['B6DBSI01'])\n",
    "data = create_DataFrame_from_OECD(country = 'USA', frequency = 'Q', subject = ['B6DBSI01'])"
   ]
  }
 ],
 "metadata": {
  "interpreter": {
   "hash": "7018bf6470262b8ae1e6867ae1c9679e3678173f555f785c43cc713d53a7d042"
  },
  "kernelspec": {
   "display_name": "Python 3.8.3 64-bit ('base': conda)",
   "language": "python",
   "name": "python3"
  },
  "language_info": {
   "codemirror_mode": {
    "name": "ipython",
    "version": 3
   },
   "file_extension": ".py",
   "mimetype": "text/x-python",
   "name": "python",
   "nbconvert_exporter": "python",
   "pygments_lexer": "ipython3",
   "version": "3.8.3"
  },
  "orig_nbformat": 4
 },
 "nbformat": 4,
 "nbformat_minor": 2
}
