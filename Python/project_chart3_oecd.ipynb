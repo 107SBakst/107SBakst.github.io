{
 "cells": [
  {
   "cell_type": "code",
   "execution_count": 53,
   "metadata": {},
   "outputs": [
    {
     "name": "stdout",
     "output_type": "stream",
     "text": [
      "Requirement already up-to-date: pandas in c:\\users\\vw191\\downloads\\annaconda\\lib\\site-packages (1.3.5)\n",
      "Requirement already satisfied, skipping upgrade: python-dateutil>=2.7.3 in c:\\users\\vw191\\downloads\\annaconda\\lib\\site-packages (from pandas) (2.8.1)\n",
      "Requirement already satisfied, skipping upgrade: numpy>=1.17.3; platform_machine != \"aarch64\" and platform_machine != \"arm64\" and python_version < \"3.10\" in c:\\users\\vw191\\downloads\\annaconda\\lib\\site-packages (from pandas) (1.18.5)\n",
      "Requirement already satisfied, skipping upgrade: pytz>=2017.3 in c:\\users\\vw191\\downloads\\annaconda\\lib\\site-packages (from pandas) (2020.1)\n",
      "Requirement already satisfied, skipping upgrade: six>=1.5 in c:\\users\\vw191\\downloads\\annaconda\\lib\\site-packages (from python-dateutil>=2.7.3->pandas) (1.15.0)\n",
      "Requirement already satisfied: lxml in c:\\users\\vw191\\downloads\\annaconda\\lib\\site-packages (4.5.2)\n"
     ]
    }
   ],
   "source": [
    "!pip install --upgrade pandas --user\n",
    "!pip install lxml\n",
    "\n"
   ]
  },
  {
   "cell_type": "code",
   "execution_count": 52,
   "metadata": {},
   "outputs": [],
   "source": [
    "import os\n",
    "\n",
    "import zipfile as zip\n",
    "import pandas as pd\n",
    "import csv\n",
    "import numpy as np\n",
    "import requests\n",
    "import io\n",
    "from scipy import optimize\n",
    "import matplotlib.pyplot as plt\n",
    "import requests, pandas as pd\n",
    "from bs4 import BeautifulSoup\n",
    "import urllib.request\n",
    "import pip\n",
    "import warnings\n",
    "from cif import cif\n",
    "import xml.etree.ElementTree as ET\n"
   ]
  },
  {
   "cell_type": "code",
   "execution_count": 38,
   "metadata": {},
   "outputs": [
    {
     "name": "stdout",
     "output_type": "stream",
     "text": [
      "<Response [200]>\n",
      "Requesting URL http://stats.oecd.org/SDMX-JSON/data/MEI/USA...Y/all\n",
      "Error: 400\n"
     ]
    }
   ],
   "source": [
    "#Using OECD api to create a df of metropoitan area statistics for a sample of cities.\n",
    "#https://stats.oecd.org/SDMX-JSON/data/CITIES/BE001+BE002+BE003+DE001+DE002+DE003+DE004+DE005+DE007+DK001+FI001+FR001+FR003+FR004+FR006+FR007+FR008+FR032+FR203+FR205+UK001+UK003+UK004+UK006+UK007+UK008+UK009+UK010+UK011+UK012+UK013+UK014+UK016+UK017+UK029+UK528+UK539+UK546+UK559+UK560+UK569+HU001+IT001+IT002+IT003+IT004+IT006+IT007+IT009+IT011+MEX01+NL002+NL003+NL004+SE001+SE003+USA01+USA02+USA03+USA04+USA05+USA06+USA08+USA09+USA10+USA11+USA13+USA14+USA15+USA16+USA30.T_T+T_T_CORE+T_T_HINTER+POP_TOT_GI+T_T_SH_NAT+POP_DEN+POP_DEN_CORE+POP_DEN_HINTER/all?startTime=2010&endTime=2021&dimensionAtObservation=allDimensions\n",
    "url = 'https://stats.oecd.org/SDMX-JSON/data/CITIES/BE001+BE002+BE003+DE001+DE002+DE003+DE004+DE005+DE007+DK001+FI001+FR001+FR003+FR004+FR006+FR007+FR008+FR032+FR203+FR205+UK001+UK003+UK004+UK006+UK007+UK008+UK009+UK010+UK011+UK012+UK013+UK014+UK016+UK017+UK029+UK528+UK539+UK546+UK559+UK560+UK569+HU001+IT001+IT002+IT003+IT004+IT006+IT007+IT009+IT011+MEX01+NL002+NL003+NL004+SE001+SE003+USA01+USA02+USA03+USA04+USA05+USA06+USA08+USA09+USA10+USA11+USA13+USA14+USA15+USA16+USA30.T_T+T_T_CORE+T_T_HINTER+POP_TOT_GI+T_T_SH_NAT+POP_DEN+POP_DEN_CORE+POP_DEN_HINTER/all?startTime=2010&endTime=2021&dimensionAtObservation=allDimensions'\n",
    "oecd_url = requests.get(url)\n",
    "print(oecd_url)\n",
    "data_all, subjects_all, measures_all = cif.createDataFrameFromOECD(countries = ['USA'], dsname = 'MEI', frequency = 'Y')"
   ]
  },
  {
   "cell_type": "code",
   "execution_count": 39,
   "metadata": {},
   "outputs": [
    {
     "name": "stdout",
     "output_type": "stream",
     "text": [
      "Downloaded MEI data set size: 0 x 0\n"
     ]
    },
    {
     "data": {
      "text/html": [
       "<div>\n",
       "<style scoped>\n",
       "    .dataframe tbody tr th:only-of-type {\n",
       "        vertical-align: middle;\n",
       "    }\n",
       "\n",
       "    .dataframe tbody tr th {\n",
       "        vertical-align: top;\n",
       "    }\n",
       "\n",
       "    .dataframe thead th {\n",
       "        text-align: right;\n",
       "    }\n",
       "</style>\n",
       "<table border=\"1\" class=\"dataframe\">\n",
       "  <thead>\n",
       "    <tr style=\"text-align: right;\">\n",
       "      <th></th>\n",
       "    </tr>\n",
       "  </thead>\n",
       "  <tbody>\n",
       "  </tbody>\n",
       "</table>\n",
       "</div>"
      ],
      "text/plain": [
       "Empty DataFrame\n",
       "Columns: []\n",
       "Index: []"
      ]
     },
     "execution_count": 39,
     "metadata": {},
     "output_type": "execute_result"
    }
   ],
   "source": [
    "print('Downloaded MEI data set size: %d x %d' % (data_all.shape[0], data_all.shape[1]))\n",
    "data_all"
   ]
  },
  {
   "cell_type": "code",
   "execution_count": 21,
   "metadata": {},
   "outputs": [
    {
     "name": "stdout",
     "output_type": "stream",
     "text": [
      "  SUBJECT                                       Subject LOCATION  \\\n",
      "0    IRLT  Long-term interest rates, Per cent per annum      USA   \n",
      "1    IRLT  Long-term interest rates, Per cent per annum      USA   \n",
      "2    IRLT  Long-term interest rates, Per cent per annum      USA   \n",
      "3    IRLT  Long-term interest rates, Per cent per annum      USA   \n",
      "4    IRLT  Long-term interest rates, Per cent per annum      USA   \n",
      "\n",
      "         Country FREQUENCY Frequency     TIME      Time Unit Code        Unit  \\\n",
      "0  United States         M   Monthly  1953-04  Apr-1953        PC  Percentage   \n",
      "1  United States         M   Monthly  1953-05  May-1953        PC  Percentage   \n",
      "2  United States         M   Monthly  1953-06  Jun-1953        PC  Percentage   \n",
      "3  United States         M   Monthly  1953-07  Jul-1953        PC  Percentage   \n",
      "4  United States         M   Monthly  1953-08  Aug-1953        PC  Percentage   \n",
      "\n",
      "   PowerCode Code PowerCode  Reference Period Code  Reference Period  Value  \\\n",
      "0               0     Units                    NaN               NaN   2.83   \n",
      "1               0     Units                    NaN               NaN   3.05   \n",
      "2               0     Units                    NaN               NaN   3.11   \n",
      "3               0     Units                    NaN               NaN   2.93   \n",
      "4               0     Units                    NaN               NaN   2.95   \n",
      "\n",
      "   Flag Codes  Flags  \n",
      "0         NaN    NaN  \n",
      "1         NaN    NaN  \n",
      "2         NaN    NaN  \n",
      "3         NaN    NaN  \n",
      "4         NaN    NaN  \n"
     ]
    }
   ],
   "source": [
    "def get_from_oecd(sdmx_query):\n",
    "    return pd.read_csv(\n",
    "        f\"https://stats.oecd.org/SDMX-JSON/data/{sdmx_query}?contentType=csv\"\n",
    "    )\n",
    "\n",
    "print(get_from_oecd(\"MEI_FIN/IRLT.USA.M/OECD\").head())"
   ]
  },
  {
   "cell_type": "code",
   "execution_count": 47,
   "metadata": {},
   "outputs": [
    {
     "ename": "AttributeError",
     "evalue": "module 'pandas' has no attribute 'read_xml'",
     "output_type": "error",
     "traceback": [
      "\u001b[1;31m---------------------------------------------------------------------------\u001b[0m",
      "\u001b[1;31mAttributeError\u001b[0m                            Traceback (most recent call last)",
      "\u001b[1;32m<ipython-input-47-7d8f0fa6007e>\u001b[0m in \u001b[0;36m<module>\u001b[1;34m\u001b[0m\n\u001b[1;32m----> 1\u001b[1;33m \u001b[0mdf\u001b[0m \u001b[1;33m=\u001b[0m \u001b[0mpd\u001b[0m\u001b[1;33m.\u001b[0m\u001b[0mread_xml\u001b[0m\u001b[1;33m(\u001b[0m\u001b[1;34m'https://stats.oecd.org/restsdmx/sdmx.ashx/GetData/CITIES/CAN01.GDP_REAL_PPP+GDP_SH_NAT+GDP_PC_REAL_PPP+EMP_IND_TOTAL+GDP_PW_REAL_PPP/all?startTime=2001&endTime=2021'\u001b[0m\u001b[1;33m)\u001b[0m\u001b[1;33m\u001b[0m\u001b[1;33m\u001b[0m\u001b[0m\n\u001b[0m",
      "\u001b[1;32m~\\Downloads\\annaconda\\lib\\site-packages\\pandas\\__init__.py\u001b[0m in \u001b[0;36m__getattr__\u001b[1;34m(name)\u001b[0m\n\u001b[0;32m    261\u001b[0m \u001b[1;33m-\u001b[0m\u001b[1;33m-\u001b[0m\u001b[1;33m-\u001b[0m\u001b[1;33m-\u001b[0m\u001b[1;33m-\u001b[0m\u001b[1;33m-\u001b[0m\u001b[1;33m-\u001b[0m\u001b[1;33m-\u001b[0m\u001b[1;33m-\u001b[0m\u001b[1;33m-\u001b[0m\u001b[1;33m-\u001b[0m\u001b[1;33m-\u001b[0m\u001b[1;33m-\u001b[0m\u001b[1;33m\u001b[0m\u001b[1;33m\u001b[0m\u001b[0m\n\u001b[0;32m    262\u001b[0m \u001b[0mHere\u001b[0m \u001b[0mare\u001b[0m \u001b[0mjust\u001b[0m \u001b[0ma\u001b[0m \u001b[0mfew\u001b[0m \u001b[0mof\u001b[0m \u001b[0mthe\u001b[0m \u001b[0mthings\u001b[0m \u001b[0mthat\u001b[0m \u001b[0mpandas\u001b[0m \u001b[0mdoes\u001b[0m \u001b[0mwell\u001b[0m\u001b[1;33m:\u001b[0m\u001b[1;33m\u001b[0m\u001b[1;33m\u001b[0m\u001b[0m\n\u001b[1;32m--> 263\u001b[1;33m \u001b[1;33m\u001b[0m\u001b[0m\n\u001b[0m\u001b[0;32m    264\u001b[0m   \u001b[1;33m-\u001b[0m \u001b[0mEasy\u001b[0m \u001b[0mhandling\u001b[0m \u001b[0mof\u001b[0m \u001b[0mmissing\u001b[0m \u001b[0mdata\u001b[0m \u001b[1;32min\u001b[0m \u001b[0mfloating\u001b[0m \u001b[0mpoint\u001b[0m \u001b[1;32mas\u001b[0m \u001b[0mwell\u001b[0m \u001b[1;32mas\u001b[0m \u001b[0mnon\u001b[0m\u001b[1;33m-\u001b[0m\u001b[0mfloating\u001b[0m\u001b[1;33m\u001b[0m\u001b[1;33m\u001b[0m\u001b[0m\n\u001b[0;32m    265\u001b[0m     \u001b[0mpoint\u001b[0m \u001b[0mdata\u001b[0m\u001b[1;33m.\u001b[0m\u001b[1;33m\u001b[0m\u001b[1;33m\u001b[0m\u001b[0m\n",
      "\u001b[1;31mAttributeError\u001b[0m: module 'pandas' has no attribute 'read_xml'"
     ]
    }
   ],
   "source": [
    "df = pd.read_xml('https://stats.oecd.org/restsdmx/sdmx.ashx/GetData/CITIES/CAN01.GDP_REAL_PPP+GDP_SH_NAT+GDP_PC_REAL_PPP+EMP_IND_TOTAL+GDP_PW_REAL_PPP/all?startTime=2001&endTime=2021')"
   ]
  },
  {
   "cell_type": "code",
   "execution_count": 55,
   "metadata": {},
   "outputs": [
    {
     "ename": "OSError",
     "evalue": "[Errno 22] Invalid argument: 'https://stats.oecd.org/restsdmx/sdmx.ashx/GetData/CITIES/CAN01.GDP_REAL_PPP+GDP_SH_NAT+GDP_PC_REAL_PPP+EMP_IND_TOTAL+GDP_PW_REAL_PPP/all?startTime=2001&endTime=2021'",
     "output_type": "error",
     "traceback": [
      "\u001b[1;31m---------------------------------------------------------------------------\u001b[0m",
      "\u001b[1;31mOSError\u001b[0m                                   Traceback (most recent call last)",
      "\u001b[1;32m<ipython-input-55-2822353f0f07>\u001b[0m in \u001b[0;36m<module>\u001b[1;34m\u001b[0m\n\u001b[1;32m----> 1\u001b[1;33m \u001b[0mxml_data\u001b[0m \u001b[1;33m=\u001b[0m \u001b[0mopen\u001b[0m\u001b[1;33m(\u001b[0m\u001b[1;34m'https://stats.oecd.org/restsdmx/sdmx.ashx/GetData/CITIES/CAN01.GDP_REAL_PPP+GDP_SH_NAT+GDP_PC_REAL_PPP+EMP_IND_TOTAL+GDP_PW_REAL_PPP/all?startTime=2001&endTime=2021'\u001b[0m\u001b[1;33m)\u001b[0m\u001b[1;33m.\u001b[0m\u001b[0mread\u001b[0m\u001b[1;33m(\u001b[0m\u001b[1;33m)\u001b[0m  \u001b[1;31m# Read file\u001b[0m\u001b[1;33m\u001b[0m\u001b[1;33m\u001b[0m\u001b[0m\n\u001b[0m\u001b[0;32m      2\u001b[0m \u001b[0mroot\u001b[0m \u001b[1;33m=\u001b[0m \u001b[0mET\u001b[0m\u001b[1;33m.\u001b[0m\u001b[0mXML\u001b[0m\u001b[1;33m(\u001b[0m\u001b[0mxml_data\u001b[0m\u001b[1;33m)\u001b[0m  \u001b[1;31m# Parse XML\u001b[0m\u001b[1;33m\u001b[0m\u001b[1;33m\u001b[0m\u001b[0m\n\u001b[0;32m      3\u001b[0m \u001b[1;33m\u001b[0m\u001b[0m\n\u001b[0;32m      4\u001b[0m \u001b[0mdata\u001b[0m \u001b[1;33m=\u001b[0m \u001b[1;33m[\u001b[0m\u001b[1;33m]\u001b[0m\u001b[1;33m\u001b[0m\u001b[1;33m\u001b[0m\u001b[0m\n\u001b[0;32m      5\u001b[0m \u001b[0mcols\u001b[0m \u001b[1;33m=\u001b[0m \u001b[1;33m[\u001b[0m\u001b[1;33m]\u001b[0m\u001b[1;33m\u001b[0m\u001b[1;33m\u001b[0m\u001b[0m\n",
      "\u001b[1;31mOSError\u001b[0m: [Errno 22] Invalid argument: 'https://stats.oecd.org/restsdmx/sdmx.ashx/GetData/CITIES/CAN01.GDP_REAL_PPP+GDP_SH_NAT+GDP_PC_REAL_PPP+EMP_IND_TOTAL+GDP_PW_REAL_PPP/all?startTime=2001&endTime=2021'"
     ]
    }
   ],
   "source": [
    "xml_data = open('https://stats.oecd.org/restsdmx/sdmx.ashx/GetData/CITIES/CAN01.GDP_REAL_PPP+GDP_SH_NAT+GDP_PC_REAL_PPP+EMP_IND_TOTAL+GDP_PW_REAL_PPP/all?startTime=2001&endTime=2021').read()  # Read file\n",
    "root = ET.XML(xml_data)  # Parse XML\n",
    "\n",
    "data = []\n",
    "cols = []\n",
    "for i, child in enumerate(root):\n",
    "    data.append([subchild.text for subchild in child])\n",
    "    cols.append(child.tag)\n",
    "\n",
    "df = pd.DataFrame(data).T  # Write in DF and transpose it\n",
    "df.columns = cols  # Update column names\n",
    "print(df)"
   ]
  }
 ],
 "metadata": {
  "interpreter": {
   "hash": "7018bf6470262b8ae1e6867ae1c9679e3678173f555f785c43cc713d53a7d042"
  },
  "kernelspec": {
   "display_name": "Python 3.8.3 64-bit ('base': conda)",
   "language": "python",
   "name": "python3"
  },
  "language_info": {
   "codemirror_mode": {
    "name": "ipython",
    "version": 3
   },
   "file_extension": ".py",
   "mimetype": "text/x-python",
   "name": "python",
   "nbconvert_exporter": "python",
   "pygments_lexer": "ipython3",
   "version": "3.8.3"
  },
  "orig_nbformat": 4
 },
 "nbformat": 4,
 "nbformat_minor": 2
}
