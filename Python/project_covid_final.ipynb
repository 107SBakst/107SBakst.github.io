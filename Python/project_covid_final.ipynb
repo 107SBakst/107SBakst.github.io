{
 "cells": [
  {
   "cell_type": "code",
   "execution_count": 7,
   "metadata": {},
   "outputs": [],
   "source": [
    "import pandas as pd\n",
    "import numpy as np\n",
    "#Sets the df size in python.\n",
    "pd.set_option('display.max_rows', 200)\n",
    "pd.set_option('display.max_columns', 1000)"
   ]
  },
  {
   "cell_type": "code",
   "execution_count": 8,
   "metadata": {},
   "outputs": [],
   "source": [
    "#WB share of population living in urban areas in 2019.\n",
    "df = pd.read_xml('https://api.worldbank.org/v2/country/all/indicator/SP.URB.TOTL.IN.ZS?date=2019&format=xml&per_page=300')\n",
    "df\n",
    "#WB total population in 2019.\n",
    "df1 = pd.read_xml('https://api.worldbank.org/v2/country/all/indicator/SP.POP.TOTL?date=2019&format=xml&per_page=300')\n",
    "df1f = df1[df1['value'] > 20000000] #Filter df for countries with populations greater than 9 million people.\n",
    "\n",
    "mdf = df.join(df1f.set_index('country'),on='country',rsuffix='_tot_pop',lsuffix='_sh_urb', how='inner')\n",
    "#mdf\n"
   ]
  },
  {
   "cell_type": "code",
   "execution_count": 9,
   "metadata": {},
   "outputs": [],
   "source": [
    "#OWID covid19 dataset\n",
    "owid = pd.read_csv('https://raw.githubusercontent.com/owid/covid-19-data/master/public/data/latest/owid-covid-latest.csv')"
   ]
  },
  {
   "cell_type": "code",
   "execution_count": 14,
   "metadata": {},
   "outputs": [
    {
     "data": {
      "text/plain": [
       "Index(['indicator_sh_urb', 'country', 'countryiso3code_sh_urb', 'date_sh_urb',\n",
       "       'value_sh_urb', 'decimal_sh_urb', 'indicator_tot_pop',\n",
       "       'countryiso3code_tot_pop', 'date_tot_pop', 'value_tot_pop',\n",
       "       'decimal_tot_pop', 'iso_code', 'continent', 'location',\n",
       "       'last_updated_date', 'total_cases', 'new_cases', 'new_cases_smoothed',\n",
       "       'total_deaths', 'new_deaths', 'new_deaths_smoothed',\n",
       "       'total_cases_per_million', 'new_cases_per_million',\n",
       "       'new_cases_smoothed_per_million', 'total_deaths_per_million',\n",
       "       'new_deaths_per_million', 'new_deaths_smoothed_per_million',\n",
       "       'reproduction_rate', 'population', 'population_density', 'median_age',\n",
       "       'aged_65_older', 'aged_70_older', 'gdp_per_capita',\n",
       "       'cardiovasc_death_rate', 'diabetes_prevalence', 'life_expectancy',\n",
       "       'human_development_index'],\n",
       "      dtype='object')"
      ]
     },
     "execution_count": 14,
     "metadata": {},
     "output_type": "execute_result"
    }
   ],
   "source": [
    "#Merge the owid df with the wb df.\n",
    "\n",
    "#The OWID data only has countries, therefore merging on inner removes other regional statistics that the WB includes.\n",
    "fmdf = pd.merge(mdf,owid,left_on='countryiso3code_sh_urb',right_on='iso_code',how='inner') \n",
    " \n",
    "#Such as a data value for World, Arab World etc.\n",
    "fmdf1 = fmdf.dropna(axis=1) #Drop columns with nan values.\n",
    "fmdf1 = fmdf1.sort_values(by='gdp_per_capita',ascending=False)\n",
    "fmdf1.columns"
   ]
  },
  {
   "cell_type": "code",
   "execution_count": 11,
   "metadata": {},
   "outputs": [
    {
     "data": {
      "image/png": "[encoded data removed]",
      "text/plain": [
       "<Figure size 432x288 with 1 Axes>"
      ]
     },
     "metadata": {
      "needs_background": "light"
     },
     "output_type": "display_data"
    }
   ],
   "source": [
    "import seaborn as sns\n",
    "fmdf1['total_cases_ln'] = np.log(fmdf1['total_cases']) #Calculate the ln values of total cases.\n",
    "fmdf1['total_deaths_ln'] = np.log(fmdf1['total_deaths']) #Calculate the ln values of total deaths.\n",
    "sns.regplot(data=fmdf1[0:60],x='value_sh_urb',y='total_cases_ln')\n",
    "\n",
    "\n",
    "fmdf1.to_csv(r'C:\\Users\\vw191\\OneDrive\\Documents\\GitHub\\107SBakst.github.io\\data\\covid_pop_urb.csv')\n",
    "#https://raw.githubusercontent.com/107SBakst/107SBakst.github.io/main/data/covid_pop_urb.csv This is the raw github url."
   ]
  },
  {
   "cell_type": "code",
   "execution_count": 12,
   "metadata": {},
   "outputs": [
    {
     "name": "stdout",
     "output_type": "stream",
     "text": [
      "The Mean Squared Error is- 2380.0592706736143\n",
      "Model slope:     [0.05469931]\n",
      "Model intercept: [10.59478259]\n",
      "Coefficients: \n",
      " [[0.05469931]]\n",
      "Variance score: 0.34579757035301595\n",
      "Ttest_1sampResult(statistic=array([19.31768896]), pvalue=array([1.95301873e-26]))\n"
     ]
    },
    {
     "data": {
      "image/png": "[encoded data removed]",
      "text/plain": [
       "<Figure size 432x288 with 1 Axes>"
      ]
     },
     "metadata": {
      "needs_background": "light"
     },
     "output_type": "display_data"
    }
   ],
   "source": [
    "from sklearn.linear_model import LinearRegression\n",
    "import matplotlib.pyplot as plt\n",
    "model = LinearRegression(fit_intercept=True)\n",
    "\n",
    "data = fmdf1\n",
    "x = data[['value_sh_urb']]\n",
    "y = data[['total_cases_ln']]\n",
    "\n",
    "model.fit(x, y)\n",
    "\n",
    "xfit = np.linspace(0, 100, 1000) #1000 values between 0 and 100 to run the regression model on.\n",
    "yfit = model.predict(xfit[:, np.newaxis])\n",
    "\n",
    "plt.scatter(x, y)\n",
    "plt.plot(xfit, yfit)\n",
    "\n",
    "from sklearn.metrics import mean_squared_error \n",
    "print(\"The Mean Squared Error is- {}\".format(mean_squared_error(x, y))) \n",
    "\n",
    "\n",
    "\n",
    "print(\"Model slope:    \", model.coef_[0]) #Gradient of the model.\n",
    "print(\"Model intercept:\", model.intercept_) #Y intercept of the model.\n",
    "\n",
    "print('Coefficients: \\n', model.coef_) #Shows the coefficients of the 3 regressors used in the model.\n",
    "print('Variance score: {}'.format(model.score(x, y))) #Calculates the variance.\n",
    "import scipy\n",
    "from scipy import stats\n",
    "print(scipy.stats.ttest_1samp(x,popmean=0)) #Calculates the t statistic and p value of the independent variable."
   ]
  }
 ],
 "metadata": {
  "interpreter": {
   "hash": "7018bf6470262b8ae1e6867ae1c9679e3678173f555f785c43cc713d53a7d042"
  },
  "kernelspec": {
   "display_name": "Python 3.8.3 64-bit ('base': conda)",
   "language": "python",
   "name": "python3"
  },
  "language_info": {
   "codemirror_mode": {
    "name": "ipython",
    "version": 3
   },
   "file_extension": ".py",
   "mimetype": "text/x-python",
   "name": "python",
   "nbconvert_exporter": "python",
   "pygments_lexer": "ipython3",
   "version": "3.8.3"
  },
  "orig_nbformat": 4
 },
 "nbformat": 4,
 "nbformat_minor": 2
}
